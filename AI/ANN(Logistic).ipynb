{
 "cells": [
  {
   "cell_type": "code",
   "execution_count": null,
   "metadata": {},
   "outputs": [],
   "source": [
    "#ANN(Logistic)\n",
    "'''\n",
    "改善感知器的機率解釋性，特定向量先經過一個s函數(Logistic函數)得到機率再去經過激發函數(activation function)\n",
    "步驟:\n",
    "邏輯斯回歸\n",
    "1.假設給定一個特徵向量[a,b,c]\n",
    "2.乘上係數score = w1*a+w2*b+w3*c\n",
    "3.將算出的score 經過s函數，得到新的score值，當作機率\n",
    "4.讓我們的score經過一個啟動函數(Activation Function)，我們設定函數超過一定的量輸出1,否則出為0\n",
    "\n",
    "'''\n"
   ]
  },
  {
   "cell_type": "code",
   "execution_count": 1,
   "metadata": {},
   "outputs": [],
   "source": [
    "from sklearn.datasets import load_iris\n",
    "import pandas as pd\n",
    "import matplotlib.pyplot as plt\n",
    "import seaborn as sns \n",
    "%matplotlib inline\n",
    "pd.set_option(\"display.max_rows\", 15)\n",
    "pd.set_option(\"display.max_columns\", 10)\n",
    "import warnings\n",
    "warnings.filterwarnings('ignore')\n",
    "\n",
    "#輸入資料\n",
    "iris = load_iris()\n",
    "df = pd.DataFrame(iris[\"data\"],columns=iris[\"feature_names\"])\n",
    "df[\"target\"]=iris[\"target\"]\n",
    "df = df.drop([\"sepal width (cm)\",\"petal width (cm)\"], axis = 1)\n",
    "from sklearn.model_selection import train_test_split\n",
    "data = df.drop([\"target\"],axis =1)\n",
    "data_train, data_test, target_train, target_test=train_test_split(data,df[\"target\"],test_size = 0.1)"
   ]
  },
  {
   "cell_type": "code",
   "execution_count": 2,
   "metadata": {},
   "outputs": [],
   "source": [
    "from sklearn.linear_model import LogisticRegression\n",
    "clf = LogisticRegression()\n",
    "clf = clf.fit(data_train, target_train)"
   ]
  },
  {
   "cell_type": "code",
   "execution_count": 3,
   "metadata": {},
   "outputs": [
    {
     "name": "stdout",
     "output_type": "stream",
     "text": [
      "predict: [1, 1, 0, 2, 1, 0, 1, 2, 0, 2, 0, 2, 1, 2, 0]\n",
      "targetlist: [1, 1, 0, 2, 2, 0, 1, 2, 0, 2, 0, 2, 1, 2, 0]\n",
      "accuracy: 93.33333333333333 %\n"
     ]
    }
   ],
   "source": [
    "from sklearn.metrics import accuracy_score\n",
    "predict = clf.predict(data_test)\n",
    "print(\"predict:\",list(predict))\n",
    "print(\"targetlist:\",list(target_test))\n",
    "print(\"accuracy:\",accuracy_score(target_test,predict)*100, '%')"
   ]
  },
  {
   "cell_type": "code",
   "execution_count": 4,
   "metadata": {},
   "outputs": [
    {
     "data": {
      "text/html": [
       "<div>\n",
       "<style scoped>\n",
       "    .dataframe tbody tr th:only-of-type {\n",
       "        vertical-align: middle;\n",
       "    }\n",
       "\n",
       "    .dataframe tbody tr th {\n",
       "        vertical-align: top;\n",
       "    }\n",
       "\n",
       "    .dataframe thead th {\n",
       "        text-align: right;\n",
       "    }\n",
       "</style>\n",
       "<table border=\"1\" class=\"dataframe\">\n",
       "  <thead>\n",
       "    <tr style=\"text-align: right;\">\n",
       "      <th></th>\n",
       "      <th>0</th>\n",
       "      <th>1</th>\n",
       "      <th>2</th>\n",
       "    </tr>\n",
       "  </thead>\n",
       "  <tbody>\n",
       "    <tr>\n",
       "      <th>0</th>\n",
       "      <td>0.009497</td>\n",
       "      <td>0.500740</td>\n",
       "      <td>0.489763</td>\n",
       "    </tr>\n",
       "    <tr>\n",
       "      <th>1</th>\n",
       "      <td>0.022264</td>\n",
       "      <td>0.597488</td>\n",
       "      <td>0.380248</td>\n",
       "    </tr>\n",
       "    <tr>\n",
       "      <th>2</th>\n",
       "      <td>0.804017</td>\n",
       "      <td>0.195249</td>\n",
       "      <td>0.000733</td>\n",
       "    </tr>\n",
       "    <tr>\n",
       "      <th>3</th>\n",
       "      <td>0.000132</td>\n",
       "      <td>0.323844</td>\n",
       "      <td>0.676024</td>\n",
       "    </tr>\n",
       "    <tr>\n",
       "      <th>4</th>\n",
       "      <td>0.009888</td>\n",
       "      <td>0.511388</td>\n",
       "      <td>0.478723</td>\n",
       "    </tr>\n",
       "    <tr>\n",
       "      <th>5</th>\n",
       "      <td>0.846534</td>\n",
       "      <td>0.153219</td>\n",
       "      <td>0.000248</td>\n",
       "    </tr>\n",
       "    <tr>\n",
       "      <th>6</th>\n",
       "      <td>0.038159</td>\n",
       "      <td>0.602002</td>\n",
       "      <td>0.359838</td>\n",
       "    </tr>\n",
       "    <tr>\n",
       "      <th>7</th>\n",
       "      <td>0.000132</td>\n",
       "      <td>0.323844</td>\n",
       "      <td>0.676024</td>\n",
       "    </tr>\n",
       "    <tr>\n",
       "      <th>8</th>\n",
       "      <td>0.839800</td>\n",
       "      <td>0.159893</td>\n",
       "      <td>0.000307</td>\n",
       "    </tr>\n",
       "    <tr>\n",
       "      <th>9</th>\n",
       "      <td>0.001604</td>\n",
       "      <td>0.376499</td>\n",
       "      <td>0.621897</td>\n",
       "    </tr>\n",
       "    <tr>\n",
       "      <th>10</th>\n",
       "      <td>0.833371</td>\n",
       "      <td>0.166285</td>\n",
       "      <td>0.000344</td>\n",
       "    </tr>\n",
       "    <tr>\n",
       "      <th>11</th>\n",
       "      <td>0.000136</td>\n",
       "      <td>0.360389</td>\n",
       "      <td>0.639475</td>\n",
       "    </tr>\n",
       "    <tr>\n",
       "      <th>12</th>\n",
       "      <td>0.031698</td>\n",
       "      <td>0.626514</td>\n",
       "      <td>0.341788</td>\n",
       "    </tr>\n",
       "    <tr>\n",
       "      <th>13</th>\n",
       "      <td>0.000681</td>\n",
       "      <td>0.352352</td>\n",
       "      <td>0.646967</td>\n",
       "    </tr>\n",
       "    <tr>\n",
       "      <th>14</th>\n",
       "      <td>0.853234</td>\n",
       "      <td>0.146584</td>\n",
       "      <td>0.000182</td>\n",
       "    </tr>\n",
       "  </tbody>\n",
       "</table>\n",
       "</div>"
      ],
      "text/plain": [
       "           0         1         2\n",
       "0   0.009497  0.500740  0.489763\n",
       "1   0.022264  0.597488  0.380248\n",
       "2   0.804017  0.195249  0.000733\n",
       "3   0.000132  0.323844  0.676024\n",
       "4   0.009888  0.511388  0.478723\n",
       "5   0.846534  0.153219  0.000248\n",
       "6   0.038159  0.602002  0.359838\n",
       "7   0.000132  0.323844  0.676024\n",
       "8   0.839800  0.159893  0.000307\n",
       "9   0.001604  0.376499  0.621897\n",
       "10  0.833371  0.166285  0.000344\n",
       "11  0.000136  0.360389  0.639475\n",
       "12  0.031698  0.626514  0.341788\n",
       "13  0.000681  0.352352  0.646967\n",
       "14  0.853234  0.146584  0.000182"
      ]
     },
     "execution_count": 4,
     "metadata": {},
     "output_type": "execute_result"
    }
   ],
   "source": [
    "#查看機率，.predict_proba返回標籤機率\n",
    "proba = pd.DataFrame(clf.predict_proba(data_test))\n",
    "pd.DataFrame(proba)"
   ]
  },
  {
   "cell_type": "code",
   "execution_count": 5,
   "metadata": {},
   "outputs": [
    {
     "data": {
      "text/plain": [
       "<matplotlib.axes._subplots.AxesSubplot at 0x24c077bd2b0>"
      ]
     },
     "execution_count": 5,
     "metadata": {},
     "output_type": "execute_result"
    },
    {
     "data": {
      "image/png": "[encoded data removed]",
      "text/plain": [
       "<Figure size 432x288 with 1 Axes>"
      ]
     },
     "metadata": {
      "needs_background": "light"
     },
     "output_type": "display_data"
    }
   ],
   "source": [
    "from mlxtend.plotting import plot_decision_regions\n",
    "import numpy as np\n",
    "plot_decision_regions(X=np.array(data_train),y=np.array(target_train),clf = clf)"
   ]
  },
  {
   "cell_type": "code",
   "execution_count": null,
   "metadata": {},
   "outputs": [],
   "source": [
    "#小結論:邏輯斯回歸可以透過加入s函式解決機率問題，但還非線性問題待解決"
   ]
  }
 ],
 "metadata": {
  "kernelspec": {
   "display_name": "Python 3",
   "language": "python",
   "name": "python3"
  },
  "language_info": {
   "codemirror_mode": {
    "name": "ipython",
    "version": 3
   },
   "file_extension": ".py",
   "mimetype": "text/x-python",
   "name": "python",
   "nbconvert_exporter": "python",
   "pygments_lexer": "ipython3",
   "version": "3.6.0"
  }
 },
 "nbformat": 4,
 "nbformat_minor": 2
}
