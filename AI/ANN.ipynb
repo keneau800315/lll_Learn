{
 "cells": [
  {
   "cell_type": "code",
   "execution_count": null,
   "metadata": {},
   "outputs": [],
   "source": [
    "'''\n",
    "ANN(Artificial Neural Network)\n",
    "人工神經網路，演算法基於模擬人類神經的判斷方式，人類神經受到一定強度的激發繼續望下層傳遞\n",
    "把給個特徵乘上一定的係數在加起來，若超過一定值為正類，否值為負累\n",
    "步驟:\n",
    "1.假設給定一個特徵向量[a,b,c]\n",
    "2.乘上係數score = w1*a+w2*b+w3*c\n",
    "3.讓我們的score經過一個啟動函數(Activation Function)，我們設定函數超過一定的量輸出1,否則出為0\n",
    "\n",
    "'''"
   ]
  },
  {
   "cell_type": "code",
   "execution_count": 1,
   "metadata": {},
   "outputs": [],
   "source": [
    "from sklearn.datasets import load_iris\n",
    "import pandas as pd\n",
    "import matplotlib.pyplot as plt\n",
    "import seaborn as sns \n",
    "%matplotlib inline"
   ]
  },
  {
   "cell_type": "code",
   "execution_count": 2,
   "metadata": {},
   "outputs": [],
   "source": [
    "pd.set_option(\"display.max_rows\", 15)\n",
    "pd.set_option(\"display.max_columns\", 10)"
   ]
  },
  {
   "cell_type": "code",
   "execution_count": 3,
   "metadata": {},
   "outputs": [],
   "source": [
    "#使用scikit-learn iris data\n",
    "iris = load_iris()\n",
    "df = pd.DataFrame(iris[\"data\"],columns=iris[\"feature_names\"])"
   ]
  },
  {
   "cell_type": "code",
   "execution_count": 4,
   "metadata": {},
   "outputs": [
    {
     "data": {
      "text/html": [
       "<div>\n",
       "<style scoped>\n",
       "    .dataframe tbody tr th:only-of-type {\n",
       "        vertical-align: middle;\n",
       "    }\n",
       "\n",
       "    .dataframe tbody tr th {\n",
       "        vertical-align: top;\n",
       "    }\n",
       "\n",
       "    .dataframe thead th {\n",
       "        text-align: right;\n",
       "    }\n",
       "</style>\n",
       "<table border=\"1\" class=\"dataframe\">\n",
       "  <thead>\n",
       "    <tr style=\"text-align: right;\">\n",
       "      <th></th>\n",
       "      <th>sepal length (cm)</th>\n",
       "      <th>sepal width (cm)</th>\n",
       "      <th>petal length (cm)</th>\n",
       "      <th>petal width (cm)</th>\n",
       "      <th>target</th>\n",
       "    </tr>\n",
       "  </thead>\n",
       "  <tbody>\n",
       "    <tr>\n",
       "      <th>0</th>\n",
       "      <td>5.1</td>\n",
       "      <td>3.5</td>\n",
       "      <td>1.4</td>\n",
       "      <td>0.2</td>\n",
       "      <td>0</td>\n",
       "    </tr>\n",
       "    <tr>\n",
       "      <th>1</th>\n",
       "      <td>4.9</td>\n",
       "      <td>3.0</td>\n",
       "      <td>1.4</td>\n",
       "      <td>0.2</td>\n",
       "      <td>0</td>\n",
       "    </tr>\n",
       "    <tr>\n",
       "      <th>2</th>\n",
       "      <td>4.7</td>\n",
       "      <td>3.2</td>\n",
       "      <td>1.3</td>\n",
       "      <td>0.2</td>\n",
       "      <td>0</td>\n",
       "    </tr>\n",
       "    <tr>\n",
       "      <th>3</th>\n",
       "      <td>4.6</td>\n",
       "      <td>3.1</td>\n",
       "      <td>1.5</td>\n",
       "      <td>0.2</td>\n",
       "      <td>0</td>\n",
       "    </tr>\n",
       "    <tr>\n",
       "      <th>4</th>\n",
       "      <td>5.0</td>\n",
       "      <td>3.6</td>\n",
       "      <td>1.4</td>\n",
       "      <td>0.2</td>\n",
       "      <td>0</td>\n",
       "    </tr>\n",
       "  </tbody>\n",
       "</table>\n",
       "</div>"
      ],
      "text/plain": [
       "   sepal length (cm)  sepal width (cm)  petal length (cm)  petal width (cm)  \\\n",
       "0                5.1               3.5                1.4               0.2   \n",
       "1                4.9               3.0                1.4               0.2   \n",
       "2                4.7               3.2                1.3               0.2   \n",
       "3                4.6               3.1                1.5               0.2   \n",
       "4                5.0               3.6                1.4               0.2   \n",
       "\n",
       "   target  \n",
       "0       0  \n",
       "1       0  \n",
       "2       0  \n",
       "3       0  \n",
       "4       0  "
      ]
     },
     "execution_count": 4,
     "metadata": {},
     "output_type": "execute_result"
    }
   ],
   "source": [
    "df[\"target\"]=iris[\"target\"]\n",
    "df.head()"
   ]
  },
  {
   "cell_type": "code",
   "execution_count": 5,
   "metadata": {},
   "outputs": [],
   "source": [
    "#只留花瓣和花萼長度觀察決策邊界\n",
    "df = df.drop([\"sepal width (cm)\",\"petal width (cm)\"], axis = 1)"
   ]
  },
  {
   "cell_type": "code",
   "execution_count": 6,
   "metadata": {},
   "outputs": [],
   "source": [
    "from sklearn.model_selection import train_test_split\n",
    "data = df.drop([\"target\"],axis =1)\n",
    "data_train, data_test, target_train, target_test=train_test_split(data,df[\"target\"],test_size = 0.1)"
   ]
  },
  {
   "cell_type": "code",
   "execution_count": 7,
   "metadata": {},
   "outputs": [
    {
     "name": "stdout",
     "output_type": "stream",
     "text": [
      "predict [2, 2, 2, 0, 2, 2, 0, 0, 2, 0, 0, 2, 0, 2, 0]\n",
      "targetlist [2, 2, 2, 1, 1, 1, 0, 0, 1, 0, 0, 2, 0, 1, 0]\n",
      "accuracy 66.66666666666666 %\n"
     ]
    }
   ],
   "source": [
    "#使用Perceptron感知器\n",
    "from sklearn.linear_model import Perceptron\n",
    "clf = Perceptron()\n",
    "clf = clf.fit(data_train, target_train)\n",
    "\n",
    "from sklearn.metrics import accuracy_score\n",
    "predict = clf.predict(data_test)\n",
    "print(\"predict\",list(predict))\n",
    "print(\"targetlist\",list(target_test))\n",
    "print(\"accuracy\",accuracy_score(target_test,predict)*100, '%')"
   ]
  },
  {
   "cell_type": "code",
   "execution_count": 8,
   "metadata": {},
   "outputs": [
    {
     "name": "stdout",
     "output_type": "stream",
     "text": [
      "Requirement already satisfied: mlxtend in c:\\users\\keneau\\pycharmprojects\\work\\venv\\lib\\site-packages (0.16.0)\n",
      "Requirement already satisfied: scikit-learn>=0.18 in c:\\users\\keneau\\pycharmprojects\\work\\venv\\lib\\site-packages (from mlxtend) (0.21.2)\n",
      "Requirement already satisfied: pandas>=0.17.1 in c:\\users\\keneau\\pycharmprojects\\work\\venv\\lib\\site-packages (from mlxtend) (0.24.2)\n",
      "Requirement already satisfied: scipy>=0.17 in c:\\users\\keneau\\pycharmprojects\\work\\venv\\lib\\site-packages (from mlxtend) (1.3.0)\n",
      "Requirement already satisfied: setuptools in c:\\users\\keneau\\pycharmprojects\\work\\venv\\lib\\site-packages\\setuptools-39.1.0-py3.6.egg (from mlxtend) (39.1.0)\n",
      "Requirement already satisfied: matplotlib>=1.5.1 in c:\\users\\keneau\\pycharmprojects\\work\\venv\\lib\\site-packages (from mlxtend) (3.1.0)\n",
      "Requirement already satisfied: numpy>=1.10.4 in c:\\users\\keneau\\pycharmprojects\\work\\venv\\lib\\site-packages (from mlxtend) (1.16.4)\n",
      "Requirement already satisfied: joblib>=0.11 in c:\\users\\keneau\\pycharmprojects\\work\\venv\\lib\\site-packages (from scikit-learn>=0.18->mlxtend) (0.13.2)\n",
      "Requirement already satisfied: pytz>=2011k in c:\\users\\keneau\\pycharmprojects\\work\\venv\\lib\\site-packages (from pandas>=0.17.1->mlxtend) (2019.1)\n",
      "Requirement already satisfied: python-dateutil>=2.5.0 in c:\\users\\keneau\\pycharmprojects\\work\\venv\\lib\\site-packages (from pandas>=0.17.1->mlxtend) (2.8.0)\n",
      "Requirement already satisfied: pyparsing!=2.0.4,!=2.1.2,!=2.1.6,>=2.0.1 in c:\\users\\keneau\\pycharmprojects\\work\\venv\\lib\\site-packages (from matplotlib>=1.5.1->mlxtend) (2.4.0)\n",
      "Requirement already satisfied: kiwisolver>=1.0.1 in c:\\users\\keneau\\pycharmprojects\\work\\venv\\lib\\site-packages (from matplotlib>=1.5.1->mlxtend) (1.1.0)\n",
      "Requirement already satisfied: cycler>=0.10 in c:\\users\\keneau\\pycharmprojects\\work\\venv\\lib\\site-packages (from matplotlib>=1.5.1->mlxtend) (0.10.0)\n",
      "Requirement already satisfied: six>=1.5 in c:\\users\\keneau\\pycharmprojects\\work\\venv\\lib\\site-packages (from python-dateutil>=2.5.0->pandas>=0.17.1->mlxtend) (1.12.0)\n"
     ]
    },
    {
     "name": "stderr",
     "output_type": "stream",
     "text": [
      "jupyter-console 6.0.0 has requirement prompt-toolkit<2.1.0,>=2.0.0, but you'll have prompt-toolkit 1.0.16 which is incompatible.\n",
      "You are using pip version 10.0.1, however version 19.1.1 is available.\n",
      "You should consider upgrading via the 'python -m pip install --upgrade pip' command.\n"
     ]
    }
   ],
   "source": [
    "!pip install mlxtend"
   ]
  },
  {
   "cell_type": "code",
   "execution_count": 9,
   "metadata": {},
   "outputs": [
    {
     "data": {
      "text/plain": [
       "<matplotlib.axes._subplots.AxesSubplot at 0x1547fe1b7f0>"
      ]
     },
     "execution_count": 9,
     "metadata": {},
     "output_type": "execute_result"
    },
    {
     "data": {
      "image/png": "[encoded data removed]",
      "text/plain": [
       "<Figure size 432x288 with 1 Axes>"
      ]
     },
     "metadata": {
      "needs_background": "light"
     },
     "output_type": "display_data"
    }
   ],
   "source": [
    "#使用剛剛的Perceptron來畫出決策邊界\n",
    "from mlxtend.plotting import plot_decision_regions\n",
    "import numpy as np\n",
    "plot_decision_regions(X=np.array(data_train),y=np.array(target_train),clf = clf)"
   ]
  },
  {
   "cell_type": "code",
   "execution_count": 10,
   "metadata": {},
   "outputs": [],
   "source": [
    "#發現感知器以直線做區隔，無法用直線分開的區域就沒辦法正確分類~\n",
    "#線性分類器:線都是直的，二維一條線，三微一平面ex:f(x)=w1*x1+w2*x2....\n",
    "#非線性分類器:使用多次方函式ex:f(x)=w1*(x1**2)+w2*x(x2**2)...或者像是決策樹使用多條直線切割"
   ]
  },
  {
   "cell_type": "code",
   "execution_count": 11,
   "metadata": {},
   "outputs": [
    {
     "data": {
      "text/plain": [
       "<matplotlib.axes._subplots.AxesSubplot at 0x154020322b0>"
      ]
     },
     "execution_count": 11,
     "metadata": {},
     "output_type": "execute_result"
    },
    {
     "data": {
      "image/png": "[encoded data removed]",
      "text/plain": [
       "<Figure size 432x288 with 1 Axes>"
      ]
     },
     "metadata": {
      "needs_background": "light"
     },
     "output_type": "display_data"
    }
   ],
   "source": [
    "#使用非線性分類器\n",
    "from sklearn.naive_bayes import GaussianNB\n",
    "clf = GaussianNB()\n",
    "clf = clf.fit(data_train, target_train)\n",
    "plot_decision_regions(X=np.array(data_train),y=np.array(target_train),clf = clf)"
   ]
  },
  {
   "cell_type": "code",
   "execution_count": 12,
   "metadata": {},
   "outputs": [
    {
     "data": {
      "text/plain": [
       "<matplotlib.axes._subplots.AxesSubplot at 0x154021c62e8>"
      ]
     },
     "execution_count": 12,
     "metadata": {},
     "output_type": "execute_result"
    },
    {
     "data": {
      "image/png": "[encoded data removed]",
      "text/plain": [
       "<Figure size 432x288 with 1 Axes>"
      ]
     },
     "metadata": {
      "needs_background": "light"
     },
     "output_type": "display_data"
    }
   ],
   "source": [
    "#使用決策樹\n",
    "from sklearn.tree import DecisionTreeClassifier\n",
    "#max_depth會改變切出來的區域\n",
    "clf = DecisionTreeClassifier(max_depth=4)\n",
    "clf = clf.fit(data_train, target_train)\n",
    "plot_decision_regions(X=np.array(data_train),y=np.array(target_train),clf = clf)"
   ]
  },
  {
   "cell_type": "code",
   "execution_count": 13,
   "metadata": {},
   "outputs": [],
   "source": [
    "#感知器問題1:沒辦法對XOR問題進行分類，Exclusive OR True+True = False,True+False = True"
   ]
  },
  {
   "cell_type": "code",
   "execution_count": 14,
   "metadata": {},
   "outputs": [
    {
     "data": {
      "text/html": [
       "<div>\n",
       "<style scoped>\n",
       "    .dataframe tbody tr th:only-of-type {\n",
       "        vertical-align: middle;\n",
       "    }\n",
       "\n",
       "    .dataframe tbody tr th {\n",
       "        vertical-align: top;\n",
       "    }\n",
       "\n",
       "    .dataframe thead th {\n",
       "        text-align: right;\n",
       "    }\n",
       "</style>\n",
       "<table border=\"1\" class=\"dataframe\">\n",
       "  <thead>\n",
       "    <tr style=\"text-align: right;\">\n",
       "      <th></th>\n",
       "      <th>x1</th>\n",
       "      <th>x2</th>\n",
       "      <th>y</th>\n",
       "    </tr>\n",
       "  </thead>\n",
       "  <tbody>\n",
       "    <tr>\n",
       "      <th>95</th>\n",
       "      <td>0</td>\n",
       "      <td>1</td>\n",
       "      <td>1</td>\n",
       "    </tr>\n",
       "    <tr>\n",
       "      <th>96</th>\n",
       "      <td>1</td>\n",
       "      <td>1</td>\n",
       "      <td>0</td>\n",
       "    </tr>\n",
       "    <tr>\n",
       "      <th>97</th>\n",
       "      <td>1</td>\n",
       "      <td>1</td>\n",
       "      <td>0</td>\n",
       "    </tr>\n",
       "    <tr>\n",
       "      <th>98</th>\n",
       "      <td>0</td>\n",
       "      <td>1</td>\n",
       "      <td>1</td>\n",
       "    </tr>\n",
       "    <tr>\n",
       "      <th>99</th>\n",
       "      <td>1</td>\n",
       "      <td>1</td>\n",
       "      <td>0</td>\n",
       "    </tr>\n",
       "  </tbody>\n",
       "</table>\n",
       "</div>"
      ],
      "text/plain": [
       "    x1  x2  y\n",
       "95   0   1  1\n",
       "96   1   1  0\n",
       "97   1   1  0\n",
       "98   0   1  1\n",
       "99   1   1  0"
      ]
     },
     "execution_count": 14,
     "metadata": {},
     "output_type": "execute_result"
    }
   ],
   "source": [
    "from numpy import random\n",
    "x1 = random.choice([True,False],100)\n",
    "x2 = random.choice([True,False],100)\n",
    "y = np.logical_xor(x1, x2)\n",
    "df= pd.DataFrame(columns=[\"x1\",\"x2\",\"y\"])\n",
    "df[\"x1\"]=x1\n",
    "df[\"x2\"]=x2\n",
    "df[\"y\"]=y\n",
    "df = df.astype(int) \n",
    "df.tail()"
   ]
  },
  {
   "cell_type": "code",
   "execution_count": 15,
   "metadata": {},
   "outputs": [
    {
     "data": {
      "text/plain": [
       "<seaborn.axisgrid.FacetGrid at 0x1547fbab198>"
      ]
     },
     "execution_count": 15,
     "metadata": {},
     "output_type": "execute_result"
    },
    {
     "data": {
      "image/png": "[encoded data removed]",
      "text/plain": [
       "<Figure size 402.375x360 with 1 Axes>"
      ]
     },
     "metadata": {
      "needs_background": "light"
     },
     "output_type": "display_data"
    }
   ],
   "source": [
    "import seaborn as sns\n",
    "sns.lmplot(x='x1',y=\"x2\",hue=\"y\",data=df,fit_reg=False)"
   ]
  },
  {
   "cell_type": "code",
   "execution_count": 16,
   "metadata": {},
   "outputs": [
    {
     "data": {
      "text/plain": [
       "<matplotlib.axes._subplots.AxesSubplot at 0x15402354ac8>"
      ]
     },
     "execution_count": 16,
     "metadata": {},
     "output_type": "execute_result"
    },
    {
     "data": {
      "image/png": "[encoded data removed]",
      "text/plain": [
       "<Figure size 432x288 with 1 Axes>"
      ]
     },
     "metadata": {
      "needs_background": "light"
     },
     "output_type": "display_data"
    }
   ],
   "source": [
    "clf=Perceptron()\n",
    "clf=clf.fit(df.drop([\"y\"],axis = 1),df[\"y\"])\n",
    "plot_decision_regions(X=np.array(df.drop([\"y\"],axis = 1)),y=np.array(df[\"y\"]),clf = clf)\n",
    "#全部分成一類"
   ]
  },
  {
   "cell_type": "code",
   "execution_count": 17,
   "metadata": {},
   "outputs": [],
   "source": [
    "#感知器問題2:沒辦法解釋機率，後來發展出邏輯回歸加入sigmoid function改善\n",
    "#小結:Perceptron感知器以較少使用由於現實的問題已非線性居多。"
   ]
  },
  {
   "cell_type": "code",
   "execution_count": null,
   "metadata": {},
   "outputs": [],
   "source": []
  }
 ],
 "metadata": {
  "kernelspec": {
   "display_name": "Python 3",
   "language": "python",
   "name": "python3"
  },
  "language_info": {
   "codemirror_mode": {
    "name": "ipython",
    "version": 3
   },
   "file_extension": ".py",
   "mimetype": "text/x-python",
   "name": "python",
   "nbconvert_exporter": "python",
   "pygments_lexer": "ipython3",
   "version": "3.6.0"
  }
 },
 "nbformat": 4,
 "nbformat_minor": 2
}
