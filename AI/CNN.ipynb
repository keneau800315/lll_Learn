{
 "cells": [
  {
   "cell_type": "code",
   "execution_count": null,
   "metadata": {},
   "outputs": [],
   "source": [
    "#ref:https://github.com/Elwing-Chou、https://brohrer.mcknote.com/zh-Hant/how_machine_learning_works/how_convolutional_neural_networks_work.html\n",
    "#ref:https://www.google.com/search?ei=0N0WXZnEHIqs8QX_nbu4BQ&q=imagenet+vgg16&oq=IMAGENET+V&gs_l=psy-ab.1.0.0l3j0i203l7.968.4438..8063...1.0..0.52.145.3......0....1..gws-wiz.......0i67.AdjSEiX2Dyc\n",
    "#ref:https://ithelp.ithome.com.tw/articles/10192162\n",
    "'''\n",
    "圖像深度學習\n",
    "MLP便是簡單手寫影像OK，但用來分析複雜影像發現問題\n",
    "1.把每個像素全部連接下去訓練參數太多，花費時間太多\n",
    "2.圖片素材取得不易，難建立大量資料\n",
    "\n",
    "CNN(Convolutional Neural Network)捲積神經網路\n",
    "與之前不同的地方在於多了卷積、池化\n",
    "步驟:捲積(特徵萃取)-池化(減低計算量)-計算分類(MLP)\n",
    "\n",
    "卷積層:mnist使用的方法是把所有pixel放入計算，一個圖片上其實有很多特徵例如:顏色、輪廓等，使用filter來抓取我們所需的特徵例如:顏色、輪廓等\n",
    "再將這一些特徵拿來做分類，用一個filter一步一步移動檢查區域內有無想要的feature，得到我們要的feature map\n",
    "\n",
    "池化層:為了解決計算量太大的問題，將feature map以一步一步方式固定的區域大小，來取區域的平均(Max Pooling)或最大值(mean Polling)\n",
    "\n",
    "如何選擇CNN的架構(幾層捲積和池化、池化的大小該多少、filter的數量應該是多少?)\n",
    "一般來說或傾向參考別人的架構\n",
    "\n",
    "'''"
   ]
  },
  {
   "cell_type": "code",
   "execution_count": 1,
   "metadata": {},
   "outputs": [
    {
     "name": "stderr",
     "output_type": "stream",
     "text": [
      "Using TensorFlow backend.\n"
     ]
    }
   ],
   "source": [
    "#讀入keras內建圖片資料\n",
    "from keras.datasets import cifar10\n",
    "((x_train,y_train),(x_test,y_test)) = cifar10.load_data()"
   ]
  },
  {
   "cell_type": "code",
   "execution_count": 2,
   "metadata": {},
   "outputs": [
    {
     "name": "stdout",
     "output_type": "stream",
     "text": [
      "(50000, 32, 32, 3)\n",
      "(50000, 1)\n"
     ]
    }
   ],
   "source": [
    "#圖片為32*32pixel,RGB色圖\n",
    "print(x_train.shape)\n",
    "print(y_train.shape)"
   ]
  },
  {
   "cell_type": "code",
   "execution_count": 3,
   "metadata": {},
   "outputs": [],
   "source": [
    "label = {0:\"飛機\", 1:\"車\", 2:\"鳥\", 3:\"貓\", 4:\"鹿\", 5:\"狗\", 6:\"青蛙\", 7:\"馬\", 8:\"船\", 9:\"卡車\"}"
   ]
  },
  {
   "cell_type": "code",
   "execution_count": 4,
   "metadata": {},
   "outputs": [
    {
     "name": "stdout",
     "output_type": "stream",
     "text": [
      "請輸入想看的圖片 [0-49999]7\n",
      "輸入的圖片 7\n",
      "圖片的答案 馬\n"
     ]
    },
    {
     "data": {
      "text/plain": [
       "<matplotlib.image.AxesImage at 0x22b43708198>"
      ]
     },
     "execution_count": 4,
     "metadata": {},
     "output_type": "execute_result"
    }
   ],
   "source": [
    "import matplotlib.pyplot as plt\n",
    "a = int(input(\"請輸入想看的圖片 [0-49999]\"))\n",
    "print(\"輸入的圖片\",a)\n",
    "print(\"圖片的答案\",label[y_train[a][0]])\n",
    "plt.imshow(x_train[a])"
   ]
  },
  {
   "cell_type": "code",
   "execution_count": 6,
   "metadata": {},
   "outputs": [],
   "source": [
    "#標準化、One-Hot-Encoding\n",
    "#np_utils y轉成One-Hot-Encoding\n",
    "from keras.utils import np_utils\n",
    "x_train_shaped = x_train.astype(\"float32\") / 255\n",
    "x_test_shaped = x_test.astype(\"float32\") / 255\n",
    "y_train_cat = np_utils.to_categorical(y_train)\n",
    "y_test_cat = np_utils.to_categorical(y_test)"
   ]
  },
  {
   "cell_type": "code",
   "execution_count": null,
   "metadata": {},
   "outputs": [],
   "source": [
    "#建立模型\n",
    "'''\n",
    "參考VGG-16的參數,VGG-16僅用了卷積、池化及全連接層構成整體架構\n",
    "使用3種不同Layer\n",
    "1.Conv2d(卷積層):\n",
    "使用Conv2d卷積層，參考VGG-16設定filter擴充到３２通道，kernel_size為過濾器的寬和高，中間層選用relu避免梯度消失，padding\n",
    "讓卷積厚寬高保持不變\n",
    "2.MaxPooling2D(最大池化層)\n",
    "選擇池化窗（2,2），兩個長、寬取區域最大值能減少參數，降低overfitting的可能性\n",
    "\n",
    "3.Dropout(Dropout層)\n",
    "訓練中很怕遇到過擬合，神經網路中可透過每次訓練隨機斷開一些神經元來避免，依照經驗drop25%-50%神經元會不錯\n",
    "\n",
    "4.Flatten(壓扁)\n",
    "即把多维的資料一維化，常使用在全連接層前\n",
    "\n",
    "'''"
   ]
  },
  {
   "cell_type": "code",
   "execution_count": 7,
   "metadata": {},
   "outputs": [
    {
     "name": "stderr",
     "output_type": "stream",
     "text": [
      "WARNING: Logging before flag parsing goes to stderr.\n",
      "W0629 20:20:03.539294 10704 deprecation_wrapper.py:119] From C:\\Users\\keneau\\PycharmProjects\\work\\venv\\lib\\site-packages\\keras\\backend\\tensorflow_backend.py:74: The name tf.get_default_graph is deprecated. Please use tf.compat.v1.get_default_graph instead.\n",
      "\n",
      "W0629 20:20:03.612251 10704 deprecation_wrapper.py:119] From C:\\Users\\keneau\\PycharmProjects\\work\\venv\\lib\\site-packages\\keras\\backend\\tensorflow_backend.py:517: The name tf.placeholder is deprecated. Please use tf.compat.v1.placeholder instead.\n",
      "\n",
      "W0629 20:20:03.615264 10704 deprecation_wrapper.py:119] From C:\\Users\\keneau\\PycharmProjects\\work\\venv\\lib\\site-packages\\keras\\backend\\tensorflow_backend.py:4138: The name tf.random_uniform is deprecated. Please use tf.random.uniform instead.\n",
      "\n",
      "W0629 20:20:03.627243 10704 deprecation_wrapper.py:119] From C:\\Users\\keneau\\PycharmProjects\\work\\venv\\lib\\site-packages\\keras\\backend\\tensorflow_backend.py:3976: The name tf.nn.max_pool is deprecated. Please use tf.nn.max_pool2d instead.\n",
      "\n",
      "W0629 20:20:03.630242 10704 deprecation_wrapper.py:119] From C:\\Users\\keneau\\PycharmProjects\\work\\venv\\lib\\site-packages\\keras\\backend\\tensorflow_backend.py:133: The name tf.placeholder_with_default is deprecated. Please use tf.compat.v1.placeholder_with_default instead.\n",
      "\n",
      "W0629 20:20:03.639241 10704 deprecation.py:506] From C:\\Users\\keneau\\PycharmProjects\\work\\venv\\lib\\site-packages\\keras\\backend\\tensorflow_backend.py:3445: calling dropout (from tensorflow.python.ops.nn_ops) with keep_prob is deprecated and will be removed in a future version.\n",
      "Instructions for updating:\n",
      "Please use `rate` instead of `keep_prob`. Rate should be set to `rate = 1 - keep_prob`.\n"
     ]
    },
    {
     "name": "stdout",
     "output_type": "stream",
     "text": [
      "_________________________________________________________________\n",
      "Layer (type)                 Output Shape              Param #   \n",
      "=================================================================\n",
      "conv2d_1 (Conv2D)            (None, 32, 32, 32)        896       \n",
      "_________________________________________________________________\n",
      "max_pooling2d_1 (MaxPooling2 (None, 16, 16, 32)        0         \n",
      "_________________________________________________________________\n",
      "dropout_1 (Dropout)          (None, 16, 16, 32)        0         \n",
      "_________________________________________________________________\n",
      "conv2d_2 (Conv2D)            (None, 16, 16, 64)        18496     \n",
      "_________________________________________________________________\n",
      "max_pooling2d_2 (MaxPooling2 (None, 8, 8, 64)          0         \n",
      "_________________________________________________________________\n",
      "flatten_1 (Flatten)          (None, 4096)              0         \n",
      "_________________________________________________________________\n",
      "dropout_2 (Dropout)          (None, 4096)              0         \n",
      "_________________________________________________________________\n",
      "dense_1 (Dense)              (None, 128)               524416    \n",
      "_________________________________________________________________\n",
      "dropout_3 (Dropout)          (None, 128)               0         \n",
      "_________________________________________________________________\n",
      "dense_2 (Dense)              (None, 10)                1290      \n",
      "=================================================================\n",
      "Total params: 545,098\n",
      "Trainable params: 545,098\n",
      "Non-trainable params: 0\n",
      "_________________________________________________________________\n"
     ]
    }
   ],
   "source": [
    "#測試簡單模型\n",
    "from keras.models import Sequential\n",
    "from keras.layers import Dense, Dropout, Activation, Flatten\n",
    "from keras.layers import Conv2D, MaxPooling2D, ZeroPadding2D\n",
    "model = Sequential()\n",
    "\n",
    "#第一次卷積與第一次池化\n",
    "model.add(Conv2D(filters=32, kernel_size=(3,3),input_shape=(32,32,3), activation='relu', padding='same'))\n",
    "model.add(MaxPooling2D(pool_size=(2,2)))\n",
    "\n",
    "#斷開25%的神經連結，並加入第二次卷積合第二次池化\n",
    "model.add(Dropout(0.25))\n",
    "model.add(Conv2D(filters=64, kernel_size=(3,3), activation='relu', padding='same'))\n",
    "model.add(MaxPooling2D(pool_size=(2,2)))\n",
    "\n",
    "#把處理過的東西攤開成一維\n",
    "model.add(Flatten())\n",
    "model.add(Dropout(rate=0.25))\n",
    "\n",
    "#全連接層\n",
    "model.add(Dense(128,activation='relu'))\n",
    "model.add(Dropout(rate=0.25))\n",
    "\n",
    "model.add(Dense(10, activation='softmax'))\n",
    "model.summary()\n"
   ]
  },
  {
   "cell_type": "code",
   "execution_count": null,
   "metadata": {},
   "outputs": [],
   "source": [
    "'''\n",
    "para參數\n",
    "1.32個濾波器，每一個3(寬)*3(高)*3(input 通道RBG)+1(bais)=28參數 32*32\n",
    "2.64個濾波器，每一個3(寬)*3(高)*32(input 通道RBG)+1(bais)=289參數 289*64\n",
    "3.全連接層:4906*128+128(bias)\n",
    "'''\n"
   ]
  },
  {
   "cell_type": "code",
   "execution_count": 8,
   "metadata": {},
   "outputs": [
    {
     "data": {
      "image/svg+xml": [
       "<svg height=\"775pt\" viewBox=\"0.00 0.00 217.00 775.00\" width=\"217pt\" xmlns=\"http://www.w3.org/2000/svg\" xmlns:xlink=\"http://www.w3.org/1999/xlink\">\n",
       "<g class=\"graph\" id=\"graph0\" transform=\"scale(1 1) rotate(0) translate(4 771)\">\n",
       "<title>G</title>\n",
       "<polygon fill=\"white\" points=\"-4,4 -4,-771 213,-771 213,4 -4,4\" stroke=\"none\"/>\n",
       "<!-- 2384840082096 -->\n",
       "<g class=\"node\" id=\"node1\"><title>2384840082096</title>\n",
       "<polygon fill=\"none\" points=\"41,-657.5 41,-693.5 168,-693.5 168,-657.5 41,-657.5\" stroke=\"black\"/>\n",
       "<text font-family=\"Times New Roman,serif\" font-size=\"14.00\" text-anchor=\"middle\" x=\"104.5\" y=\"-671.8\">conv2d_1: Conv2D</text>\n",
       "</g>\n",
       "<!-- 2384840083048 -->\n",
       "<g class=\"node\" id=\"node2\"><title>2384840083048</title>\n",
       "<polygon fill=\"none\" points=\"0,-584.5 0,-620.5 209,-620.5 209,-584.5 0,-584.5\" stroke=\"black\"/>\n",
       "<text font-family=\"Times New Roman,serif\" font-size=\"14.00\" text-anchor=\"middle\" x=\"104.5\" y=\"-598.8\">max_pooling2d_1: MaxPooling2D</text>\n",
       "</g>\n",
       "<!-- 2384840082096&#45;&gt;2384840083048 -->\n",
       "<g class=\"edge\" id=\"edge2\"><title>2384840082096-&gt;2384840083048</title>\n",
       "<path d=\"M104.5,-657.313C104.5,-649.289 104.5,-639.547 104.5,-630.569\" fill=\"none\" stroke=\"black\"/>\n",
       "<polygon fill=\"black\" points=\"108,-630.529 104.5,-620.529 101,-630.529 108,-630.529\" stroke=\"black\"/>\n",
       "</g>\n",
       "<!-- 2384840082488 -->\n",
       "<g class=\"node\" id=\"node3\"><title>2384840082488</title>\n",
       "<polygon fill=\"none\" points=\"39.5,-511.5 39.5,-547.5 169.5,-547.5 169.5,-511.5 39.5,-511.5\" stroke=\"black\"/>\n",
       "<text font-family=\"Times New Roman,serif\" font-size=\"14.00\" text-anchor=\"middle\" x=\"104.5\" y=\"-525.8\">dropout_1: Dropout</text>\n",
       "</g>\n",
       "<!-- 2384840083048&#45;&gt;2384840082488 -->\n",
       "<g class=\"edge\" id=\"edge3\"><title>2384840083048-&gt;2384840082488</title>\n",
       "<path d=\"M104.5,-584.313C104.5,-576.289 104.5,-566.547 104.5,-557.569\" fill=\"none\" stroke=\"black\"/>\n",
       "<polygon fill=\"black\" points=\"108,-557.529 104.5,-547.529 101,-557.529 108,-557.529\" stroke=\"black\"/>\n",
       "</g>\n",
       "<!-- 2384840085456 -->\n",
       "<g class=\"node\" id=\"node4\"><title>2384840085456</title>\n",
       "<polygon fill=\"none\" points=\"41,-438.5 41,-474.5 168,-474.5 168,-438.5 41,-438.5\" stroke=\"black\"/>\n",
       "<text font-family=\"Times New Roman,serif\" font-size=\"14.00\" text-anchor=\"middle\" x=\"104.5\" y=\"-452.8\">conv2d_2: Conv2D</text>\n",
       "</g>\n",
       "<!-- 2384840082488&#45;&gt;2384840085456 -->\n",
       "<g class=\"edge\" id=\"edge4\"><title>2384840082488-&gt;2384840085456</title>\n",
       "<path d=\"M104.5,-511.313C104.5,-503.289 104.5,-493.547 104.5,-484.569\" fill=\"none\" stroke=\"black\"/>\n",
       "<polygon fill=\"black\" points=\"108,-484.529 104.5,-474.529 101,-484.529 108,-484.529\" stroke=\"black\"/>\n",
       "</g>\n",
       "<!-- 2384840323984 -->\n",
       "<g class=\"node\" id=\"node5\"><title>2384840323984</title>\n",
       "<polygon fill=\"none\" points=\"0,-365.5 0,-401.5 209,-401.5 209,-365.5 0,-365.5\" stroke=\"black\"/>\n",
       "<text font-family=\"Times New Roman,serif\" font-size=\"14.00\" text-anchor=\"middle\" x=\"104.5\" y=\"-379.8\">max_pooling2d_2: MaxPooling2D</text>\n",
       "</g>\n",
       "<!-- 2384840085456&#45;&gt;2384840323984 -->\n",
       "<g class=\"edge\" id=\"edge5\"><title>2384840085456-&gt;2384840323984</title>\n",
       "<path d=\"M104.5,-438.313C104.5,-430.289 104.5,-420.547 104.5,-411.569\" fill=\"none\" stroke=\"black\"/>\n",
       "<polygon fill=\"black\" points=\"108,-411.529 104.5,-401.529 101,-411.529 108,-411.529\" stroke=\"black\"/>\n",
       "</g>\n",
       "<!-- 2384840083328 -->\n",
       "<g class=\"node\" id=\"node6\"><title>2384840083328</title>\n",
       "<polygon fill=\"none\" points=\"50,-292.5 50,-328.5 159,-328.5 159,-292.5 50,-292.5\" stroke=\"black\"/>\n",
       "<text font-family=\"Times New Roman,serif\" font-size=\"14.00\" text-anchor=\"middle\" x=\"104.5\" y=\"-306.8\">flatten_1: Flatten</text>\n",
       "</g>\n",
       "<!-- 2384840323984&#45;&gt;2384840083328 -->\n",
       "<g class=\"edge\" id=\"edge6\"><title>2384840323984-&gt;2384840083328</title>\n",
       "<path d=\"M104.5,-365.313C104.5,-357.289 104.5,-347.547 104.5,-338.569\" fill=\"none\" stroke=\"black\"/>\n",
       "<polygon fill=\"black\" points=\"108,-338.529 104.5,-328.529 101,-338.529 108,-338.529\" stroke=\"black\"/>\n",
       "</g>\n",
       "<!-- 2384840323872 -->\n",
       "<g class=\"node\" id=\"node7\"><title>2384840323872</title>\n",
       "<polygon fill=\"none\" points=\"39.5,-219.5 39.5,-255.5 169.5,-255.5 169.5,-219.5 39.5,-219.5\" stroke=\"black\"/>\n",
       "<text font-family=\"Times New Roman,serif\" font-size=\"14.00\" text-anchor=\"middle\" x=\"104.5\" y=\"-233.8\">dropout_2: Dropout</text>\n",
       "</g>\n",
       "<!-- 2384840083328&#45;&gt;2384840323872 -->\n",
       "<g class=\"edge\" id=\"edge7\"><title>2384840083328-&gt;2384840323872</title>\n",
       "<path d=\"M104.5,-292.313C104.5,-284.289 104.5,-274.547 104.5,-265.569\" fill=\"none\" stroke=\"black\"/>\n",
       "<polygon fill=\"black\" points=\"108,-265.529 104.5,-255.529 101,-265.529 108,-265.529\" stroke=\"black\"/>\n",
       "</g>\n",
       "<!-- 2384840586856 -->\n",
       "<g class=\"node\" id=\"node8\"><title>2384840586856</title>\n",
       "<polygon fill=\"none\" points=\"52.5,-146.5 52.5,-182.5 156.5,-182.5 156.5,-146.5 52.5,-146.5\" stroke=\"black\"/>\n",
       "<text font-family=\"Times New Roman,serif\" font-size=\"14.00\" text-anchor=\"middle\" x=\"104.5\" y=\"-160.8\">dense_1: Dense</text>\n",
       "</g>\n",
       "<!-- 2384840323872&#45;&gt;2384840586856 -->\n",
       "<g class=\"edge\" id=\"edge8\"><title>2384840323872-&gt;2384840586856</title>\n",
       "<path d=\"M104.5,-219.313C104.5,-211.289 104.5,-201.547 104.5,-192.569\" fill=\"none\" stroke=\"black\"/>\n",
       "<polygon fill=\"black\" points=\"108,-192.529 104.5,-182.529 101,-192.529 108,-192.529\" stroke=\"black\"/>\n",
       "</g>\n",
       "<!-- 2384840589096 -->\n",
       "<g class=\"node\" id=\"node9\"><title>2384840589096</title>\n",
       "<polygon fill=\"none\" points=\"39.5,-73.5 39.5,-109.5 169.5,-109.5 169.5,-73.5 39.5,-73.5\" stroke=\"black\"/>\n",
       "<text font-family=\"Times New Roman,serif\" font-size=\"14.00\" text-anchor=\"middle\" x=\"104.5\" y=\"-87.8\">dropout_3: Dropout</text>\n",
       "</g>\n",
       "<!-- 2384840586856&#45;&gt;2384840589096 -->\n",
       "<g class=\"edge\" id=\"edge9\"><title>2384840586856-&gt;2384840589096</title>\n",
       "<path d=\"M104.5,-146.313C104.5,-138.289 104.5,-128.547 104.5,-119.569\" fill=\"none\" stroke=\"black\"/>\n",
       "<polygon fill=\"black\" points=\"108,-119.529 104.5,-109.529 101,-119.529 108,-119.529\" stroke=\"black\"/>\n",
       "</g>\n",
       "<!-- 2384840695480 -->\n",
       "<g class=\"node\" id=\"node10\"><title>2384840695480</title>\n",
       "<polygon fill=\"none\" points=\"52.5,-0.5 52.5,-36.5 156.5,-36.5 156.5,-0.5 52.5,-0.5\" stroke=\"black\"/>\n",
       "<text font-family=\"Times New Roman,serif\" font-size=\"14.00\" text-anchor=\"middle\" x=\"104.5\" y=\"-14.8\">dense_2: Dense</text>\n",
       "</g>\n",
       "<!-- 2384840589096&#45;&gt;2384840695480 -->\n",
       "<g class=\"edge\" id=\"edge10\"><title>2384840589096-&gt;2384840695480</title>\n",
       "<path d=\"M104.5,-73.3129C104.5,-65.2895 104.5,-55.5475 104.5,-46.5691\" fill=\"none\" stroke=\"black\"/>\n",
       "<polygon fill=\"black\" points=\"108,-46.5288 104.5,-36.5288 101,-46.5289 108,-46.5288\" stroke=\"black\"/>\n",
       "</g>\n",
       "<!-- 2384840082880 -->\n",
       "<g class=\"node\" id=\"node11\"><title>2384840082880</title>\n",
       "<polygon fill=\"none\" points=\"52.5,-730.5 52.5,-766.5 156.5,-766.5 156.5,-730.5 52.5,-730.5\" stroke=\"black\"/>\n",
       "<text font-family=\"Times New Roman,serif\" font-size=\"14.00\" text-anchor=\"middle\" x=\"104.5\" y=\"-744.8\">2384840082880</text>\n",
       "</g>\n",
       "<!-- 2384840082880&#45;&gt;2384840082096 -->\n",
       "<g class=\"edge\" id=\"edge1\"><title>2384840082880-&gt;2384840082096</title>\n",
       "<path d=\"M104.5,-730.313C104.5,-722.289 104.5,-712.547 104.5,-703.569\" fill=\"none\" stroke=\"black\"/>\n",
       "<polygon fill=\"black\" points=\"108,-703.529 104.5,-693.529 101,-703.529 108,-703.529\" stroke=\"black\"/>\n",
       "</g>\n",
       "</g>\n",
       "</svg>"
      ],
      "text/plain": [
       "<IPython.core.display.SVG object>"
      ]
     },
     "execution_count": 8,
     "metadata": {},
     "output_type": "execute_result"
    }
   ],
   "source": [
    "import os\n",
    "os.environ[\"PATH\"] += os.pathsep + 'C:/Program Files (x86)/Graphviz2.38/bin'\n",
    "from IPython.display import SVG\n",
    "from keras.utils.vis_utils import model_to_dot\n",
    "SVG((model_to_dot(model)).create(prog='dot', format = 'svg'))"
   ]
  },
  {
   "cell_type": "code",
   "execution_count": 10,
   "metadata": {},
   "outputs": [
    {
     "name": "stdout",
     "output_type": "stream",
     "text": [
      "Train on 45000 samples, validate on 5000 samples\n",
      "Epoch 1/20\n",
      " - 47s - loss: 1.5551 - acc: 0.4355 - val_loss: 1.3093 - val_acc: 0.5422\n",
      "Epoch 2/20\n",
      " - 52s - loss: 1.3061 - acc: 0.5335 - val_loss: 1.1239 - val_acc: 0.6134\n",
      "Epoch 3/20\n",
      " - 58s - loss: 1.1735 - acc: 0.5828 - val_loss: 1.0264 - val_acc: 0.6458\n",
      "Epoch 4/20\n",
      " - 52s - loss: 1.0909 - acc: 0.6140 - val_loss: 0.9679 - val_acc: 0.6626\n",
      "Epoch 5/20\n",
      " - 48s - loss: 1.0335 - acc: 0.6331 - val_loss: 0.9060 - val_acc: 0.6894\n",
      "Epoch 6/20\n",
      " - 48s - loss: 0.9850 - acc: 0.6536 - val_loss: 0.8855 - val_acc: 0.6942\n",
      "Epoch 7/20\n",
      " - 48s - loss: 0.9499 - acc: 0.6643 - val_loss: 0.9100 - val_acc: 0.6890\n",
      "Epoch 8/20\n",
      " - 48s - loss: 0.9143 - acc: 0.6753 - val_loss: 0.8375 - val_acc: 0.7116\n",
      "Epoch 9/20\n",
      " - 47s - loss: 0.8818 - acc: 0.6895 - val_loss: 0.8306 - val_acc: 0.7168\n",
      "Epoch 10/20\n",
      " - 47s - loss: 0.8556 - acc: 0.6937 - val_loss: 0.8019 - val_acc: 0.7240\n",
      "Epoch 11/20\n",
      " - 50s - loss: 0.8301 - acc: 0.7067 - val_loss: 0.7912 - val_acc: 0.7252\n",
      "Epoch 12/20\n",
      " - 47s - loss: 0.7998 - acc: 0.7145 - val_loss: 0.7778 - val_acc: 0.7328\n",
      "Epoch 13/20\n",
      " - 47s - loss: 0.7903 - acc: 0.7180 - val_loss: 0.7823 - val_acc: 0.7310\n",
      "Epoch 14/20\n",
      " - 47s - loss: 0.7667 - acc: 0.7262 - val_loss: 0.7560 - val_acc: 0.7384\n",
      "Epoch 15/20\n",
      " - 50s - loss: 0.7470 - acc: 0.7347 - val_loss: 0.7543 - val_acc: 0.7368\n",
      "Epoch 16/20\n",
      " - 51s - loss: 0.7373 - acc: 0.7369 - val_loss: 0.7547 - val_acc: 0.7412\n",
      "Epoch 17/20\n",
      " - 53s - loss: 0.7131 - acc: 0.7460 - val_loss: 0.7501 - val_acc: 0.7414\n",
      "Epoch 18/20\n",
      " - 50s - loss: 0.6958 - acc: 0.7515 - val_loss: 0.7362 - val_acc: 0.7464\n",
      "Epoch 19/20\n",
      " - 52s - loss: 0.6864 - acc: 0.7560 - val_loss: 0.7422 - val_acc: 0.7432\n",
      "Epoch 20/20\n",
      " - 51s - loss: 0.6748 - acc: 0.7603 - val_loss: 0.7587 - val_acc: 0.7434\n"
     ]
    }
   ],
   "source": [
    "model.compile(loss='categorical_crossentropy',optimizer='adam',metrics=['accuracy'])\n",
    "train_history = model.fit(x = x_train_shaped, y = y_train_cat,\n",
    "                         validation_split = 0.1,\n",
    "                         epochs = 20,\n",
    "                         batch_size = 128,\n",
    "                         verbose = 2)"
   ]
  },
  {
   "cell_type": "code",
   "execution_count": 11,
   "metadata": {},
   "outputs": [
    {
     "data": {
      "text/plain": [
       "<matplotlib.legend.Legend at 0x22b4b195a90>"
      ]
     },
     "execution_count": 11,
     "metadata": {},
     "output_type": "execute_result"
    },
    {
     "data": {
      "image/png": "[encoded data removed]",
      "text/plain": [
       "<Figure size 432x288 with 1 Axes>"
      ]
     },
     "metadata": {
      "needs_background": "light"
     },
     "output_type": "display_data"
    }
   ],
   "source": [
    "plt.plot(train_history.history[\"loss\"])\n",
    "plt.plot(train_history.history[\"val_loss\"])\n",
    "plt.title(\"Loss Graph Test\")\n",
    "plt.legend(['loss','val_loss'], loc=\"upper left\")"
   ]
  },
  {
   "cell_type": "code",
   "execution_count": 12,
   "metadata": {},
   "outputs": [
    {
     "name": "stdout",
     "output_type": "stream",
     "text": [
      "10000/10000 [==============================] - 3s 285us/step\n"
     ]
    },
    {
     "data": {
      "text/plain": [
       "[0.8163019453048707, 0.7256]"
      ]
     },
     "execution_count": 12,
     "metadata": {},
     "output_type": "execute_result"
    }
   ],
   "source": [
    "model.evaluate(x_test_shaped, y_test_cat)"
   ]
  },
  {
   "cell_type": "code",
   "execution_count": 13,
   "metadata": {},
   "outputs": [],
   "source": [
    "#存成hdf5類型檔案\n",
    "model.save(\"cnn.h5\")"
   ]
  },
  {
   "cell_type": "code",
   "execution_count": null,
   "metadata": {},
   "outputs": [],
   "source": [
    "#開始測試"
   ]
  },
  {
   "cell_type": "code",
   "execution_count": 14,
   "metadata": {},
   "outputs": [
    {
     "name": "stdout",
     "output_type": "stream",
     "text": [
      "(50000, 32, 32, 3)\n",
      "(50000, 1)\n"
     ]
    }
   ],
   "source": [
    "from keras.datasets import cifar10\n",
    "((x_train,y_train),(x_test,y_test)) = cifar10.load_data()\n",
    "print(x_train.shape)\n",
    "print(y_train.shape)\n",
    "label = {0:\"飛機\", 1:\"車\", 2:\"鳥\", 3:\"貓\", 4:\"鹿\", 5:\"狗\", 6:\"青蛙\", 7:\"馬\", 8:\"船\", 9:\"卡車\"}"
   ]
  },
  {
   "cell_type": "code",
   "execution_count": 15,
   "metadata": {},
   "outputs": [],
   "source": [
    "from keras.utils import np_utils\n",
    "x_train_shaped = x_train.astype(\"float32\") / 255\n",
    "x_test_shaped = x_test.astype(\"float32\") / 255\n",
    "y_train_cat = np_utils.to_categorical(y_train)\n",
    "y_test_cat = np_utils.to_categorical(y_test)\n",
    "from keras.models import Sequential\n",
    "from keras.layers import Dense, Dropout, Activation, Flatten\n",
    "from keras.layers import Conv2D, MaxPooling2D, ZeroPadding2D"
   ]
  },
  {
   "cell_type": "code",
   "execution_count": 16,
   "metadata": {},
   "outputs": [
    {
     "name": "stdout",
     "output_type": "stream",
     "text": [
      "_________________________________________________________________\n",
      "Layer (type)                 Output Shape              Param #   \n",
      "=================================================================\n",
      "conv2d_3 (Conv2D)            (None, 32, 32, 64)        1792      \n",
      "_________________________________________________________________\n",
      "conv2d_4 (Conv2D)            (None, 32, 32, 64)        36928     \n",
      "_________________________________________________________________\n",
      "max_pooling2d_3 (MaxPooling2 (None, 16, 16, 64)        0         \n",
      "_________________________________________________________________\n",
      "dropout_4 (Dropout)          (None, 16, 16, 64)        0         \n",
      "_________________________________________________________________\n",
      "conv2d_5 (Conv2D)            (None, 16, 16, 128)       73856     \n",
      "_________________________________________________________________\n",
      "conv2d_6 (Conv2D)            (None, 16, 16, 128)       147584    \n",
      "_________________________________________________________________\n",
      "max_pooling2d_4 (MaxPooling2 (None, 8, 8, 128)         0         \n",
      "_________________________________________________________________\n",
      "dropout_5 (Dropout)          (None, 8, 8, 128)         0         \n",
      "_________________________________________________________________\n",
      "conv2d_7 (Conv2D)            (None, 8, 8, 256)         295168    \n",
      "_________________________________________________________________\n",
      "conv2d_8 (Conv2D)            (None, 8, 8, 256)         590080    \n",
      "_________________________________________________________________\n",
      "max_pooling2d_5 (MaxPooling2 (None, 4, 4, 256)         0         \n",
      "_________________________________________________________________\n",
      "flatten_2 (Flatten)          (None, 4096)              0         \n",
      "_________________________________________________________________\n",
      "dropout_6 (Dropout)          (None, 4096)              0         \n",
      "_________________________________________________________________\n",
      "dense_3 (Dense)              (None, 1024)              4195328   \n",
      "_________________________________________________________________\n",
      "dropout_7 (Dropout)          (None, 1024)              0         \n",
      "_________________________________________________________________\n",
      "dense_4 (Dense)              (None, 10)                10250     \n",
      "=================================================================\n",
      "Total params: 5,350,986\n",
      "Trainable params: 5,350,986\n",
      "Non-trainable params: 0\n",
      "_________________________________________________________________\n"
     ]
    }
   ],
   "source": [
    "#測試深度對於CNN模型的影響(參考VGG-16有dropout)\n",
    "model = Sequential()\n",
    "\n",
    "#First Convolution and Pooling layer\n",
    "model.add(Conv2D(filters=64, kernel_size=(3,3),input_shape=(32,32,3), activation='relu', padding='same'))\n",
    "model.add(Conv2D(filters=64, kernel_size=(3,3), activation='relu', padding='same'))\n",
    "model.add(MaxPooling2D(pool_size=(2,2)))\n",
    "model.add(Dropout(rate=0.25))\n",
    "\n",
    "#Second Convolution and Pooling layer\n",
    "model.add(Conv2D(filters=128, kernel_size=(3,3), activation='relu', padding='same'))\n",
    "model.add(Conv2D(filters=128, kernel_size=(3,3), activation='relu', padding='same'))\n",
    "model.add(MaxPooling2D(pool_size=(2,2)))\n",
    "model.add(Dropout(rate=0.25))\n",
    "\n",
    "#Three Convolution layer and Pooling Layer\n",
    "model.add(Conv2D(filters=256, kernel_size=(3,3), activation='relu', padding='same'))\n",
    "model.add(Conv2D(filters=256, kernel_size=(3,3), activation='relu', padding='same'))\n",
    "model.add(MaxPooling2D(pool_size=(2,2)))\n",
    "model.add(Flatten())\n",
    "model.add(Dropout(rate=0.25))\n",
    "\n",
    "\n",
    "#Fully connection layer\n",
    "model.add(Dense(1024,activation='relu'))\n",
    "model.add(Dropout(rate=0.25))\n",
    "model.add(Dense(10, activation='softmax'))\n",
    "model.summary()"
   ]
  },
  {
   "cell_type": "code",
   "execution_count": 17,
   "metadata": {},
   "outputs": [
    {
     "data": {
      "image/svg+xml": [
       "<svg height=\"1213pt\" viewBox=\"0.00 0.00 217.00 1213.00\" width=\"217pt\" xmlns=\"http://www.w3.org/2000/svg\" xmlns:xlink=\"http://www.w3.org/1999/xlink\">\n",
       "<g class=\"graph\" id=\"graph0\" transform=\"scale(1 1) rotate(0) translate(4 1209)\">\n",
       "<title>G</title>\n",
       "<polygon fill=\"white\" points=\"-4,4 -4,-1209 213,-1209 213,4 -4,4\" stroke=\"none\"/>\n",
       "<!-- 2384674770840 -->\n",
       "<g class=\"node\" id=\"node1\"><title>2384674770840</title>\n",
       "<polygon fill=\"none\" points=\"41,-1095.5 41,-1131.5 168,-1131.5 168,-1095.5 41,-1095.5\" stroke=\"black\"/>\n",
       "<text font-family=\"Times New Roman,serif\" font-size=\"14.00\" text-anchor=\"middle\" x=\"104.5\" y=\"-1109.8\">conv2d_3: Conv2D</text>\n",
       "</g>\n",
       "<!-- 2384674746440 -->\n",
       "<g class=\"node\" id=\"node2\"><title>2384674746440</title>\n",
       "<polygon fill=\"none\" points=\"41,-1022.5 41,-1058.5 168,-1058.5 168,-1022.5 41,-1022.5\" stroke=\"black\"/>\n",
       "<text font-family=\"Times New Roman,serif\" font-size=\"14.00\" text-anchor=\"middle\" x=\"104.5\" y=\"-1036.8\">conv2d_4: Conv2D</text>\n",
       "</g>\n",
       "<!-- 2384674770840&#45;&gt;2384674746440 -->\n",
       "<g class=\"edge\" id=\"edge2\"><title>2384674770840-&gt;2384674746440</title>\n",
       "<path d=\"M104.5,-1095.31C104.5,-1087.29 104.5,-1077.55 104.5,-1068.57\" fill=\"none\" stroke=\"black\"/>\n",
       "<polygon fill=\"black\" points=\"108,-1068.53 104.5,-1058.53 101,-1068.53 108,-1068.53\" stroke=\"black\"/>\n",
       "</g>\n",
       "<!-- 2384674750024 -->\n",
       "<g class=\"node\" id=\"node3\"><title>2384674750024</title>\n",
       "<polygon fill=\"none\" points=\"0,-949.5 0,-985.5 209,-985.5 209,-949.5 0,-949.5\" stroke=\"black\"/>\n",
       "<text font-family=\"Times New Roman,serif\" font-size=\"14.00\" text-anchor=\"middle\" x=\"104.5\" y=\"-963.8\">max_pooling2d_3: MaxPooling2D</text>\n",
       "</g>\n",
       "<!-- 2384674746440&#45;&gt;2384674750024 -->\n",
       "<g class=\"edge\" id=\"edge3\"><title>2384674746440-&gt;2384674750024</title>\n",
       "<path d=\"M104.5,-1022.31C104.5,-1014.29 104.5,-1004.55 104.5,-995.569\" fill=\"none\" stroke=\"black\"/>\n",
       "<polygon fill=\"black\" points=\"108,-995.529 104.5,-985.529 101,-995.529 108,-995.529\" stroke=\"black\"/>\n",
       "</g>\n",
       "<!-- 2384674747112 -->\n",
       "<g class=\"node\" id=\"node4\"><title>2384674747112</title>\n",
       "<polygon fill=\"none\" points=\"39.5,-876.5 39.5,-912.5 169.5,-912.5 169.5,-876.5 39.5,-876.5\" stroke=\"black\"/>\n",
       "<text font-family=\"Times New Roman,serif\" font-size=\"14.00\" text-anchor=\"middle\" x=\"104.5\" y=\"-890.8\">dropout_4: Dropout</text>\n",
       "</g>\n",
       "<!-- 2384674750024&#45;&gt;2384674747112 -->\n",
       "<g class=\"edge\" id=\"edge4\"><title>2384674750024-&gt;2384674747112</title>\n",
       "<path d=\"M104.5,-949.313C104.5,-941.289 104.5,-931.547 104.5,-922.569\" fill=\"none\" stroke=\"black\"/>\n",
       "<polygon fill=\"black\" points=\"108,-922.529 104.5,-912.529 101,-922.529 108,-922.529\" stroke=\"black\"/>\n",
       "</g>\n",
       "<!-- 2384852933096 -->\n",
       "<g class=\"node\" id=\"node5\"><title>2384852933096</title>\n",
       "<polygon fill=\"none\" points=\"41,-803.5 41,-839.5 168,-839.5 168,-803.5 41,-803.5\" stroke=\"black\"/>\n",
       "<text font-family=\"Times New Roman,serif\" font-size=\"14.00\" text-anchor=\"middle\" x=\"104.5\" y=\"-817.8\">conv2d_5: Conv2D</text>\n",
       "</g>\n",
       "<!-- 2384674747112&#45;&gt;2384852933096 -->\n",
       "<g class=\"edge\" id=\"edge5\"><title>2384674747112-&gt;2384852933096</title>\n",
       "<path d=\"M104.5,-876.313C104.5,-868.289 104.5,-858.547 104.5,-849.569\" fill=\"none\" stroke=\"black\"/>\n",
       "<polygon fill=\"black\" points=\"108,-849.529 104.5,-839.529 101,-849.529 108,-849.529\" stroke=\"black\"/>\n",
       "</g>\n",
       "<!-- 2384674748400 -->\n",
       "<g class=\"node\" id=\"node6\"><title>2384674748400</title>\n",
       "<polygon fill=\"none\" points=\"41,-730.5 41,-766.5 168,-766.5 168,-730.5 41,-730.5\" stroke=\"black\"/>\n",
       "<text font-family=\"Times New Roman,serif\" font-size=\"14.00\" text-anchor=\"middle\" x=\"104.5\" y=\"-744.8\">conv2d_6: Conv2D</text>\n",
       "</g>\n",
       "<!-- 2384852933096&#45;&gt;2384674748400 -->\n",
       "<g class=\"edge\" id=\"edge6\"><title>2384852933096-&gt;2384674748400</title>\n",
       "<path d=\"M104.5,-803.313C104.5,-795.289 104.5,-785.547 104.5,-776.569\" fill=\"none\" stroke=\"black\"/>\n",
       "<polygon fill=\"black\" points=\"108,-776.529 104.5,-766.529 101,-776.529 108,-776.529\" stroke=\"black\"/>\n",
       "</g>\n",
       "<!-- 2384677271088 -->\n",
       "<g class=\"node\" id=\"node7\"><title>2384677271088</title>\n",
       "<polygon fill=\"none\" points=\"0,-657.5 0,-693.5 209,-693.5 209,-657.5 0,-657.5\" stroke=\"black\"/>\n",
       "<text font-family=\"Times New Roman,serif\" font-size=\"14.00\" text-anchor=\"middle\" x=\"104.5\" y=\"-671.8\">max_pooling2d_4: MaxPooling2D</text>\n",
       "</g>\n",
       "<!-- 2384674748400&#45;&gt;2384677271088 -->\n",
       "<g class=\"edge\" id=\"edge7\"><title>2384674748400-&gt;2384677271088</title>\n",
       "<path d=\"M104.5,-730.313C104.5,-722.289 104.5,-712.547 104.5,-703.569\" fill=\"none\" stroke=\"black\"/>\n",
       "<polygon fill=\"black\" points=\"108,-703.529 104.5,-693.529 101,-703.529 108,-703.529\" stroke=\"black\"/>\n",
       "</g>\n",
       "<!-- 2384674864544 -->\n",
       "<g class=\"node\" id=\"node8\"><title>2384674864544</title>\n",
       "<polygon fill=\"none\" points=\"39.5,-584.5 39.5,-620.5 169.5,-620.5 169.5,-584.5 39.5,-584.5\" stroke=\"black\"/>\n",
       "<text font-family=\"Times New Roman,serif\" font-size=\"14.00\" text-anchor=\"middle\" x=\"104.5\" y=\"-598.8\">dropout_5: Dropout</text>\n",
       "</g>\n",
       "<!-- 2384677271088&#45;&gt;2384674864544 -->\n",
       "<g class=\"edge\" id=\"edge8\"><title>2384677271088-&gt;2384674864544</title>\n",
       "<path d=\"M104.5,-657.313C104.5,-649.289 104.5,-639.547 104.5,-630.569\" fill=\"none\" stroke=\"black\"/>\n",
       "<polygon fill=\"black\" points=\"108,-630.529 104.5,-620.529 101,-630.529 108,-630.529\" stroke=\"black\"/>\n",
       "</g>\n",
       "<!-- 2384677271648 -->\n",
       "<g class=\"node\" id=\"node9\"><title>2384677271648</title>\n",
       "<polygon fill=\"none\" points=\"41,-511.5 41,-547.5 168,-547.5 168,-511.5 41,-511.5\" stroke=\"black\"/>\n",
       "<text font-family=\"Times New Roman,serif\" font-size=\"14.00\" text-anchor=\"middle\" x=\"104.5\" y=\"-525.8\">conv2d_7: Conv2D</text>\n",
       "</g>\n",
       "<!-- 2384674864544&#45;&gt;2384677271648 -->\n",
       "<g class=\"edge\" id=\"edge9\"><title>2384674864544-&gt;2384677271648</title>\n",
       "<path d=\"M104.5,-584.313C104.5,-576.289 104.5,-566.547 104.5,-557.569\" fill=\"none\" stroke=\"black\"/>\n",
       "<polygon fill=\"black\" points=\"108,-557.529 104.5,-547.529 101,-557.529 108,-557.529\" stroke=\"black\"/>\n",
       "</g>\n",
       "<!-- 2384677272040 -->\n",
       "<g class=\"node\" id=\"node10\"><title>2384677272040</title>\n",
       "<polygon fill=\"none\" points=\"41,-438.5 41,-474.5 168,-474.5 168,-438.5 41,-438.5\" stroke=\"black\"/>\n",
       "<text font-family=\"Times New Roman,serif\" font-size=\"14.00\" text-anchor=\"middle\" x=\"104.5\" y=\"-452.8\">conv2d_8: Conv2D</text>\n",
       "</g>\n",
       "<!-- 2384677271648&#45;&gt;2384677272040 -->\n",
       "<g class=\"edge\" id=\"edge10\"><title>2384677271648-&gt;2384677272040</title>\n",
       "<path d=\"M104.5,-511.313C104.5,-503.289 104.5,-493.547 104.5,-484.569\" fill=\"none\" stroke=\"black\"/>\n",
       "<polygon fill=\"black\" points=\"108,-484.529 104.5,-474.529 101,-484.529 108,-484.529\" stroke=\"black\"/>\n",
       "</g>\n",
       "<!-- 2384677711544 -->\n",
       "<g class=\"node\" id=\"node11\"><title>2384677711544</title>\n",
       "<polygon fill=\"none\" points=\"0,-365.5 0,-401.5 209,-401.5 209,-365.5 0,-365.5\" stroke=\"black\"/>\n",
       "<text font-family=\"Times New Roman,serif\" font-size=\"14.00\" text-anchor=\"middle\" x=\"104.5\" y=\"-379.8\">max_pooling2d_5: MaxPooling2D</text>\n",
       "</g>\n",
       "<!-- 2384677272040&#45;&gt;2384677711544 -->\n",
       "<g class=\"edge\" id=\"edge11\"><title>2384677272040-&gt;2384677711544</title>\n",
       "<path d=\"M104.5,-438.313C104.5,-430.289 104.5,-420.547 104.5,-411.569\" fill=\"none\" stroke=\"black\"/>\n",
       "<polygon fill=\"black\" points=\"108,-411.529 104.5,-401.529 101,-411.529 108,-411.529\" stroke=\"black\"/>\n",
       "</g>\n",
       "<!-- 2384677455856 -->\n",
       "<g class=\"node\" id=\"node12\"><title>2384677455856</title>\n",
       "<polygon fill=\"none\" points=\"50,-292.5 50,-328.5 159,-328.5 159,-292.5 50,-292.5\" stroke=\"black\"/>\n",
       "<text font-family=\"Times New Roman,serif\" font-size=\"14.00\" text-anchor=\"middle\" x=\"104.5\" y=\"-306.8\">flatten_2: Flatten</text>\n",
       "</g>\n",
       "<!-- 2384677711544&#45;&gt;2384677455856 -->\n",
       "<g class=\"edge\" id=\"edge12\"><title>2384677711544-&gt;2384677455856</title>\n",
       "<path d=\"M104.5,-365.313C104.5,-357.289 104.5,-347.547 104.5,-338.569\" fill=\"none\" stroke=\"black\"/>\n",
       "<polygon fill=\"black\" points=\"108,-338.529 104.5,-328.529 101,-338.529 108,-338.529\" stroke=\"black\"/>\n",
       "</g>\n",
       "<!-- 2384677709696 -->\n",
       "<g class=\"node\" id=\"node13\"><title>2384677709696</title>\n",
       "<polygon fill=\"none\" points=\"39.5,-219.5 39.5,-255.5 169.5,-255.5 169.5,-219.5 39.5,-219.5\" stroke=\"black\"/>\n",
       "<text font-family=\"Times New Roman,serif\" font-size=\"14.00\" text-anchor=\"middle\" x=\"104.5\" y=\"-233.8\">dropout_6: Dropout</text>\n",
       "</g>\n",
       "<!-- 2384677455856&#45;&gt;2384677709696 -->\n",
       "<g class=\"edge\" id=\"edge13\"><title>2384677455856-&gt;2384677709696</title>\n",
       "<path d=\"M104.5,-292.313C104.5,-284.289 104.5,-274.547 104.5,-265.569\" fill=\"none\" stroke=\"black\"/>\n",
       "<polygon fill=\"black\" points=\"108,-265.529 104.5,-255.529 101,-265.529 108,-265.529\" stroke=\"black\"/>\n",
       "</g>\n",
       "<!-- 2384677834256 -->\n",
       "<g class=\"node\" id=\"node14\"><title>2384677834256</title>\n",
       "<polygon fill=\"none\" points=\"52.5,-146.5 52.5,-182.5 156.5,-182.5 156.5,-146.5 52.5,-146.5\" stroke=\"black\"/>\n",
       "<text font-family=\"Times New Roman,serif\" font-size=\"14.00\" text-anchor=\"middle\" x=\"104.5\" y=\"-160.8\">dense_3: Dense</text>\n",
       "</g>\n",
       "<!-- 2384677709696&#45;&gt;2384677834256 -->\n",
       "<g class=\"edge\" id=\"edge14\"><title>2384677709696-&gt;2384677834256</title>\n",
       "<path d=\"M104.5,-219.313C104.5,-211.289 104.5,-201.547 104.5,-192.569\" fill=\"none\" stroke=\"black\"/>\n",
       "<polygon fill=\"black\" points=\"108,-192.529 104.5,-182.529 101,-192.529 108,-192.529\" stroke=\"black\"/>\n",
       "</g>\n",
       "<!-- 2384677938512 -->\n",
       "<g class=\"node\" id=\"node15\"><title>2384677938512</title>\n",
       "<polygon fill=\"none\" points=\"39.5,-73.5 39.5,-109.5 169.5,-109.5 169.5,-73.5 39.5,-73.5\" stroke=\"black\"/>\n",
       "<text font-family=\"Times New Roman,serif\" font-size=\"14.00\" text-anchor=\"middle\" x=\"104.5\" y=\"-87.8\">dropout_7: Dropout</text>\n",
       "</g>\n",
       "<!-- 2384677834256&#45;&gt;2384677938512 -->\n",
       "<g class=\"edge\" id=\"edge15\"><title>2384677834256-&gt;2384677938512</title>\n",
       "<path d=\"M104.5,-146.313C104.5,-138.289 104.5,-128.547 104.5,-119.569\" fill=\"none\" stroke=\"black\"/>\n",
       "<polygon fill=\"black\" points=\"108,-119.529 104.5,-109.529 101,-119.529 108,-119.529\" stroke=\"black\"/>\n",
       "</g>\n",
       "<!-- 2384678320840 -->\n",
       "<g class=\"node\" id=\"node16\"><title>2384678320840</title>\n",
       "<polygon fill=\"none\" points=\"52.5,-0.5 52.5,-36.5 156.5,-36.5 156.5,-0.5 52.5,-0.5\" stroke=\"black\"/>\n",
       "<text font-family=\"Times New Roman,serif\" font-size=\"14.00\" text-anchor=\"middle\" x=\"104.5\" y=\"-14.8\">dense_4: Dense</text>\n",
       "</g>\n",
       "<!-- 2384677938512&#45;&gt;2384678320840 -->\n",
       "<g class=\"edge\" id=\"edge16\"><title>2384677938512-&gt;2384678320840</title>\n",
       "<path d=\"M104.5,-73.3129C104.5,-65.2895 104.5,-55.5475 104.5,-46.5691\" fill=\"none\" stroke=\"black\"/>\n",
       "<polygon fill=\"black\" points=\"108,-46.5288 104.5,-36.5288 101,-46.5289 108,-46.5288\" stroke=\"black\"/>\n",
       "</g>\n",
       "<!-- 2384674746832 -->\n",
       "<g class=\"node\" id=\"node17\"><title>2384674746832</title>\n",
       "<polygon fill=\"none\" points=\"52.5,-1168.5 52.5,-1204.5 156.5,-1204.5 156.5,-1168.5 52.5,-1168.5\" stroke=\"black\"/>\n",
       "<text font-family=\"Times New Roman,serif\" font-size=\"14.00\" text-anchor=\"middle\" x=\"104.5\" y=\"-1182.8\">2384674746832</text>\n",
       "</g>\n",
       "<!-- 2384674746832&#45;&gt;2384674770840 -->\n",
       "<g class=\"edge\" id=\"edge1\"><title>2384674746832-&gt;2384674770840</title>\n",
       "<path d=\"M104.5,-1168.31C104.5,-1160.29 104.5,-1150.55 104.5,-1141.57\" fill=\"none\" stroke=\"black\"/>\n",
       "<polygon fill=\"black\" points=\"108,-1141.53 104.5,-1131.53 101,-1141.53 108,-1141.53\" stroke=\"black\"/>\n",
       "</g>\n",
       "</g>\n",
       "</svg>"
      ],
      "text/plain": [
       "<IPython.core.display.SVG object>"
      ]
     },
     "execution_count": 17,
     "metadata": {},
     "output_type": "execute_result"
    }
   ],
   "source": [
    "SVG((model_to_dot(model)).create(prog='dot', format = 'svg'))"
   ]
  },
  {
   "cell_type": "code",
   "execution_count": 18,
   "metadata": {},
   "outputs": [
    {
     "name": "stdout",
     "output_type": "stream",
     "text": [
      "Train on 45000 samples, validate on 5000 samples\n",
      "Epoch 1/20\n",
      " - 482s - loss: 1.7484 - acc: 0.3524 - val_loss: 1.3628 - val_acc: 0.4848\n",
      "Epoch 2/20\n",
      " - 436s - loss: 1.2631 - acc: 0.5399 - val_loss: 1.0542 - val_acc: 0.6198\n",
      "Epoch 3/20\n",
      " - 439s - loss: 1.0362 - acc: 0.6307 - val_loss: 0.8799 - val_acc: 0.6936\n",
      "Epoch 4/20\n",
      " - 448s - loss: 0.8872 - acc: 0.6872 - val_loss: 0.7525 - val_acc: 0.7444\n",
      "Epoch 5/20\n",
      " - 472s - loss: 0.7792 - acc: 0.7261 - val_loss: 0.7490 - val_acc: 0.7434\n",
      "Epoch 6/20\n",
      " - 452s - loss: 0.6967 - acc: 0.7556 - val_loss: 0.6395 - val_acc: 0.7718\n",
      "Epoch 7/20\n",
      " - 451s - loss: 0.6308 - acc: 0.7778 - val_loss: 0.6066 - val_acc: 0.7924\n",
      "Epoch 8/20\n",
      " - 439s - loss: 0.5733 - acc: 0.7977 - val_loss: 0.5813 - val_acc: 0.8028\n",
      "Epoch 9/20\n",
      " - 440s - loss: 0.5239 - acc: 0.8151 - val_loss: 0.6197 - val_acc: 0.7888\n",
      "Epoch 10/20\n",
      " - 451s - loss: 0.4884 - acc: 0.8280 - val_loss: 0.5469 - val_acc: 0.8144\n",
      "Epoch 11/20\n",
      " - 450s - loss: 0.4477 - acc: 0.8404 - val_loss: 0.5519 - val_acc: 0.8182\n",
      "Epoch 12/20\n",
      " - 447s - loss: 0.4137 - acc: 0.8534 - val_loss: 0.5703 - val_acc: 0.8096\n",
      "Epoch 13/20\n",
      " - 451s - loss: 0.3863 - acc: 0.8639 - val_loss: 0.5544 - val_acc: 0.8198\n",
      "Epoch 14/20\n",
      " - 461s - loss: 0.3607 - acc: 0.8725 - val_loss: 0.5590 - val_acc: 0.8146\n",
      "Epoch 15/20\n",
      " - 481s - loss: 0.3439 - acc: 0.8791 - val_loss: 0.5731 - val_acc: 0.8180\n",
      "Epoch 16/20\n",
      " - 453s - loss: 0.3195 - acc: 0.8851 - val_loss: 0.5563 - val_acc: 0.8294\n",
      "Epoch 17/20\n",
      " - 441s - loss: 0.2982 - acc: 0.8946 - val_loss: 0.5522 - val_acc: 0.8196\n",
      "Epoch 18/20\n",
      " - 445s - loss: 0.2865 - acc: 0.8988 - val_loss: 0.5693 - val_acc: 0.8270\n",
      "Epoch 19/20\n",
      " - 472s - loss: 0.2809 - acc: 0.9003 - val_loss: 0.5737 - val_acc: 0.8258\n",
      "Epoch 20/20\n",
      " - 488s - loss: 0.2612 - acc: 0.9088 - val_loss: 0.5735 - val_acc: 0.8226\n"
     ]
    }
   ],
   "source": [
    "model.compile(loss='categorical_crossentropy',optimizer='adam',metrics=['accuracy'])\n",
    "train_history = model.fit(x = x_train_shaped, y = y_train_cat,\n",
    "                         validation_split = 0.1,\n",
    "                         epochs = 20,\n",
    "                         batch_size = 200,\n",
    "                         verbose = 2)"
   ]
  },
  {
   "cell_type": "code",
   "execution_count": 19,
   "metadata": {},
   "outputs": [
    {
     "data": {
      "text/plain": [
       "<matplotlib.legend.Legend at 0x22b3aae8c18>"
      ]
     },
     "execution_count": 19,
     "metadata": {},
     "output_type": "execute_result"
    },
    {
     "data": {
      "image/png": "[encoded data removed]",
      "text/plain": [
       "<Figure size 432x288 with 1 Axes>"
      ]
     },
     "metadata": {
      "needs_background": "light"
     },
     "output_type": "display_data"
    }
   ],
   "source": [
    "plt.plot(train_history.history[\"loss\"])\n",
    "plt.plot(train_history.history[\"val_loss\"])\n",
    "plt.title(\"Loss Graph with dropout\")\n",
    "plt.legend(['loss','val_loss'], loc=\"upper left\")"
   ]
  },
  {
   "cell_type": "code",
   "execution_count": 20,
   "metadata": {},
   "outputs": [
    {
     "name": "stdout",
     "output_type": "stream",
     "text": [
      "10000/10000 [==============================] - 24s 2ms/step\n"
     ]
    },
    {
     "data": {
      "text/plain": [
       "[0.6149757656812668, 0.8234]"
      ]
     },
     "execution_count": 20,
     "metadata": {},
     "output_type": "execute_result"
    }
   ],
   "source": [
    "model.evaluate(x_test_shaped, y_test_cat)\n",
    "#val_loss在超過10次後停止下降，可以訓練7-10次就好"
   ]
  },
  {
   "cell_type": "code",
   "execution_count": 21,
   "metadata": {},
   "outputs": [
    {
     "name": "stdout",
     "output_type": "stream",
     "text": [
      "_________________________________________________________________\n",
      "Layer (type)                 Output Shape              Param #   \n",
      "=================================================================\n",
      "conv2d_9 (Conv2D)            (None, 32, 32, 64)        1792      \n",
      "_________________________________________________________________\n",
      "conv2d_10 (Conv2D)           (None, 32, 32, 64)        36928     \n",
      "_________________________________________________________________\n",
      "max_pooling2d_6 (MaxPooling2 (None, 16, 16, 64)        0         \n",
      "_________________________________________________________________\n",
      "conv2d_11 (Conv2D)           (None, 16, 16, 128)       73856     \n",
      "_________________________________________________________________\n",
      "conv2d_12 (Conv2D)           (None, 16, 16, 128)       147584    \n",
      "_________________________________________________________________\n",
      "max_pooling2d_7 (MaxPooling2 (None, 8, 8, 128)         0         \n",
      "_________________________________________________________________\n",
      "conv2d_13 (Conv2D)           (None, 8, 8, 256)         295168    \n",
      "_________________________________________________________________\n",
      "conv2d_14 (Conv2D)           (None, 8, 8, 256)         590080    \n",
      "_________________________________________________________________\n",
      "max_pooling2d_8 (MaxPooling2 (None, 4, 4, 256)         0         \n",
      "_________________________________________________________________\n",
      "flatten_3 (Flatten)          (None, 4096)              0         \n",
      "_________________________________________________________________\n",
      "dense_5 (Dense)              (None, 1024)              4195328   \n",
      "_________________________________________________________________\n",
      "dense_6 (Dense)              (None, 10)                10250     \n",
      "=================================================================\n",
      "Total params: 5,350,986\n",
      "Trainable params: 5,350,986\n",
      "Non-trainable params: 0\n",
      "_________________________________________________________________\n"
     ]
    }
   ],
   "source": [
    "#測試深度對於CNN模型的影響(參考VGG-16無dropout)\n",
    "model = Sequential()\n",
    "\n",
    "#First Convolution and Pooling layer\n",
    "model.add(Conv2D(filters=64, kernel_size=(3,3),input_shape=(32,32,3), activation='relu', padding='same'))\n",
    "model.add(Conv2D(filters=64, kernel_size=(3,3), activation='relu', padding='same'))\n",
    "model.add(MaxPooling2D(pool_size=(2,2)))\n",
    "\n",
    "\n",
    "#Second Convolution and Pooling layer\n",
    "model.add(Conv2D(filters=128, kernel_size=(3,3), activation='relu', padding='same'))\n",
    "model.add(Conv2D(filters=128, kernel_size=(3,3), activation='relu', padding='same'))\n",
    "model.add(MaxPooling2D(pool_size=(2,2)))\n",
    "\n",
    "\n",
    "#Three Convolution layer and Pooling Layer\n",
    "model.add(Conv2D(filters=256, kernel_size=(3,3), activation='relu', padding='same'))\n",
    "model.add(Conv2D(filters=256, kernel_size=(3,3), activation='relu', padding='same'))\n",
    "model.add(MaxPooling2D(pool_size=(2,2)))\n",
    "model.add(Flatten())\n",
    "\n",
    "\n",
    "#Fully connection layer\n",
    "model.add(Dense(1024,activation='relu'))\n",
    "model.add(Dense(10, activation='softmax'))\n",
    "model.summary()"
   ]
  },
  {
   "cell_type": "code",
   "execution_count": 22,
   "metadata": {
    "scrolled": true
   },
   "outputs": [
    {
     "name": "stdout",
     "output_type": "stream",
     "text": [
      "Train on 45000 samples, validate on 5000 samples\n",
      "Epoch 1/20\n",
      " - 428s - loss: 1.6838 - acc: 0.3771 - val_loss: 1.3037 - val_acc: 0.5250\n",
      "Epoch 2/20\n",
      " - 446s - loss: 1.1416 - acc: 0.5891 - val_loss: 1.0179 - val_acc: 0.6372\n",
      "Epoch 3/20\n",
      " - 448s - loss: 0.9087 - acc: 0.6766 - val_loss: 0.8209 - val_acc: 0.7146\n",
      "Epoch 4/20\n",
      " - 422s - loss: 0.7448 - acc: 0.7391 - val_loss: 0.7447 - val_acc: 0.7424\n",
      "Epoch 5/20\n",
      " - 421s - loss: 0.6184 - acc: 0.7820 - val_loss: 0.6958 - val_acc: 0.7652\n",
      "Epoch 6/20\n",
      " - 443s - loss: 0.5069 - acc: 0.8205 - val_loss: 0.6693 - val_acc: 0.7818\n",
      "Epoch 7/20\n",
      " - 431s - loss: 0.4051 - acc: 0.8559 - val_loss: 0.6552 - val_acc: 0.7830\n",
      "Epoch 8/20\n",
      " - 430s - loss: 0.3103 - acc: 0.8914 - val_loss: 0.7274 - val_acc: 0.7862\n",
      "Epoch 9/20\n",
      " - 421s - loss: 0.2333 - acc: 0.9182 - val_loss: 0.7830 - val_acc: 0.7866\n",
      "Epoch 10/20\n",
      " - 419s - loss: 0.1773 - acc: 0.9376 - val_loss: 0.8561 - val_acc: 0.7766\n",
      "Epoch 11/20\n",
      " - 418s - loss: 0.1427 - acc: 0.9497 - val_loss: 0.9689 - val_acc: 0.7824\n",
      "Epoch 12/20\n",
      " - 419s - loss: 0.1195 - acc: 0.9578 - val_loss: 0.9896 - val_acc: 0.7850\n",
      "Epoch 13/20\n",
      " - 419s - loss: 0.1051 - acc: 0.9639 - val_loss: 0.9903 - val_acc: 0.7830\n",
      "Epoch 14/20\n",
      " - 418s - loss: 0.0930 - acc: 0.9680 - val_loss: 1.1288 - val_acc: 0.7774\n",
      "Epoch 15/20\n",
      " - 418s - loss: 0.0847 - acc: 0.9714 - val_loss: 1.3116 - val_acc: 0.7748\n",
      "Epoch 16/20\n",
      " - 418s - loss: 0.0838 - acc: 0.9718 - val_loss: 1.1933 - val_acc: 0.7828\n",
      "Epoch 17/20\n",
      " - 419s - loss: 0.0802 - acc: 0.9730 - val_loss: 1.2105 - val_acc: 0.7746\n",
      "Epoch 18/20\n",
      " - 417s - loss: 0.0740 - acc: 0.9754 - val_loss: 1.4285 - val_acc: 0.7640\n",
      "Epoch 19/20\n",
      " - 417s - loss: 0.0790 - acc: 0.9741 - val_loss: 1.2310 - val_acc: 0.7980\n",
      "Epoch 20/20\n",
      " - 416s - loss: 0.0463 - acc: 0.9845 - val_loss: 1.4189 - val_acc: 0.7886\n"
     ]
    }
   ],
   "source": [
    "model.compile(loss='categorical_crossentropy',optimizer='adam',metrics=['accuracy'])\n",
    "train_history = model.fit(x = x_train_shaped, y = y_train_cat,\n",
    "                         validation_split = 0.1,\n",
    "                         epochs = 20,\n",
    "                         batch_size = 200,\n",
    "                         verbose = 2)"
   ]
  },
  {
   "cell_type": "code",
   "execution_count": 23,
   "metadata": {},
   "outputs": [
    {
     "data": {
      "text/plain": [
       "<matplotlib.legend.Legend at 0x22b422c99b0>"
      ]
     },
     "execution_count": 23,
     "metadata": {},
     "output_type": "execute_result"
    },
    {
     "data": {
      "image/png": "[encoded data removed]",
      "text/plain": [
       "<Figure size 432x288 with 1 Axes>"
      ]
     },
     "metadata": {
      "needs_background": "light"
     },
     "output_type": "display_data"
    }
   ],
   "source": [
    "plt.plot(train_history.history[\"loss\"])\n",
    "plt.plot(train_history.history[\"val_loss\"])\n",
    "plt.title(\"Loss Graph without dropout\")\n",
    "plt.legend(['loss','val_loss'], loc=\"upper left\")"
   ]
  },
  {
   "cell_type": "code",
   "execution_count": 24,
   "metadata": {},
   "outputs": [
    {
     "name": "stdout",
     "output_type": "stream",
     "text": [
      "10000/10000 [==============================] - 24s 2ms/step\n"
     ]
    },
    {
     "data": {
      "text/plain": [
       "[1.5073698106765747, 0.7698]"
      ]
     },
     "execution_count": 24,
     "metadata": {},
     "output_type": "execute_result"
    }
   ],
   "source": [
    "model.evaluate(x_test_shaped, y_test_cat)\n",
    "#雖然loss一值下降，但val_loss在超過5次後開始上升"
   ]
  },
  {
   "cell_type": "code",
   "execution_count": null,
   "metadata": {},
   "outputs": [],
   "source": [
    "#發現透過較多層的運算可以得到較佳的預測結果(0.73>0.82)\n",
    "#發現如果沒有使用dropout，可能產生過擬合導致準度下降(0.82>0.7698)"
   ]
  }
 ],
 "metadata": {
  "kernelspec": {
   "display_name": "Python 3",
   "language": "python",
   "name": "python3"
  },
  "language_info": {
   "codemirror_mode": {
    "name": "ipython",
    "version": 3
   },
   "file_extension": ".py",
   "mimetype": "text/x-python",
   "name": "python",
   "nbconvert_exporter": "python",
   "pygments_lexer": "ipython3",
   "version": "3.6.0"
  }
 },
 "nbformat": 4,
 "nbformat_minor": 2
}
