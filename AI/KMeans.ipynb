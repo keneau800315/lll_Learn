{
 "cells": [
  {
   "cell_type": "code",
   "execution_count": null,
   "metadata": {},
   "outputs": [],
   "source": [
    "#reference:https://github.com/Elwing-Chou、https://medium.com/@chih.sheng.huang821/%E6%A9%9F%E5%99%A8%E5%AD%B8%E7%BF%92-%E9%9B%86%E7%BE%A4%E5%88%86%E6%9E%90-k-means-clustering-e608a7fe1b43\n",
    "\n",
    "#KMeans(分群)，與KNN不同(監督式學習)在於KMeans是一種非監督式學習，有時數據量太大，或無法人工貼正確標籤時，請電腦自己判斷標籤\n",
    "'''\n",
    "k代表需在所有資料中選出k個質量中心，以這k個質量中心分成k類\n",
    "尋找質量中心步驟:\n",
    "\n",
    "1.隨機選則k個點當中心\n",
    "2.將剩餘的資料歸類至k類(每個資料都會計算到各k點的歐式距離，在歸類給近的k點)\n",
    "3.將分類好的資料再選擇一次k個質量中心，讓質量中心更接近理想\n",
    "4.重複2、3步驟直到穩定\n",
    "\n",
    "KMeans++ 改善kMeans第一步驟，讓選初使k時盡量離遠一點，減少穩定次數\n",
    "\n",
    "k值的選擇\n",
    "1.已知數據有n類(ex:鳶尾花有三類)，只是沒人幫忙標記類別，可以直接將k設定n類(三類)\n",
    "2.silhouette score\n",
    "'''"
   ]
  },
  {
   "cell_type": "code",
   "execution_count": 1,
   "metadata": {},
   "outputs": [
    {
     "data": {
      "text/html": [
       "<div>\n",
       "<style scoped>\n",
       "    .dataframe tbody tr th:only-of-type {\n",
       "        vertical-align: middle;\n",
       "    }\n",
       "\n",
       "    .dataframe tbody tr th {\n",
       "        vertical-align: top;\n",
       "    }\n",
       "\n",
       "    .dataframe thead th {\n",
       "        text-align: right;\n",
       "    }\n",
       "</style>\n",
       "<table border=\"1\" class=\"dataframe\">\n",
       "  <thead>\n",
       "    <tr style=\"text-align: right;\">\n",
       "      <th></th>\n",
       "      <th>sepal length (cm)</th>\n",
       "      <th>sepal width (cm)</th>\n",
       "      <th>petal length (cm)</th>\n",
       "      <th>petal width (cm)</th>\n",
       "      <th>taget</th>\n",
       "    </tr>\n",
       "  </thead>\n",
       "  <tbody>\n",
       "    <tr>\n",
       "      <th>0</th>\n",
       "      <td>5.1</td>\n",
       "      <td>3.5</td>\n",
       "      <td>1.4</td>\n",
       "      <td>0.2</td>\n",
       "      <td>0</td>\n",
       "    </tr>\n",
       "    <tr>\n",
       "      <th>1</th>\n",
       "      <td>4.9</td>\n",
       "      <td>3.0</td>\n",
       "      <td>1.4</td>\n",
       "      <td>0.2</td>\n",
       "      <td>0</td>\n",
       "    </tr>\n",
       "    <tr>\n",
       "      <th>2</th>\n",
       "      <td>4.7</td>\n",
       "      <td>3.2</td>\n",
       "      <td>1.3</td>\n",
       "      <td>0.2</td>\n",
       "      <td>0</td>\n",
       "    </tr>\n",
       "    <tr>\n",
       "      <th>3</th>\n",
       "      <td>4.6</td>\n",
       "      <td>3.1</td>\n",
       "      <td>1.5</td>\n",
       "      <td>0.2</td>\n",
       "      <td>0</td>\n",
       "    </tr>\n",
       "    <tr>\n",
       "      <th>4</th>\n",
       "      <td>5.0</td>\n",
       "      <td>3.6</td>\n",
       "      <td>1.4</td>\n",
       "      <td>0.2</td>\n",
       "      <td>0</td>\n",
       "    </tr>\n",
       "  </tbody>\n",
       "</table>\n",
       "</div>"
      ],
      "text/plain": [
       "   sepal length (cm)  sepal width (cm)  petal length (cm)  petal width (cm)  \\\n",
       "0                5.1               3.5                1.4               0.2   \n",
       "1                4.9               3.0                1.4               0.2   \n",
       "2                4.7               3.2                1.3               0.2   \n",
       "3                4.6               3.1                1.5               0.2   \n",
       "4                5.0               3.6                1.4               0.2   \n",
       "\n",
       "   taget  \n",
       "0      0  \n",
       "1      0  \n",
       "2      0  \n",
       "3      0  \n",
       "4      0  "
      ]
     },
     "execution_count": 1,
     "metadata": {},
     "output_type": "execute_result"
    }
   ],
   "source": [
    "#讀入資料\n",
    "from sklearn.datasets import load_iris\n",
    "import pandas as pd \n",
    "import matplotlib.pyplot as plt\n",
    "import seaborn as sns\n",
    "%matplotlib inline\n",
    "iris = load_iris()\n",
    "df = pd.DataFrame(data = iris['data'], columns= iris['feature_names'])\n",
    "df['taget'] = iris['target']\n",
    "df.head()"
   ]
  },
  {
   "cell_type": "code",
   "execution_count": 8,
   "metadata": {},
   "outputs": [
    {
     "data": {
      "text/plain": [
       "KMeans(algorithm='auto', copy_x=True, init='k-means++', max_iter=300,\n",
       "       n_clusters=3, n_init=10, n_jobs=None, precompute_distances='auto',\n",
       "       random_state=None, tol=0.0001, verbose=0)"
      ]
     },
     "execution_count": 8,
     "metadata": {},
     "output_type": "execute_result"
    }
   ],
   "source": [
    "#訓練模型\n",
    "from sklearn.model_selection import train_test_split\n",
    "data_train, data_test,target_train,target_test = train_test_split(iris['data'], iris['target'],test_size=0.1)\n",
    "#使用kmeans來訓練:1.創建好cluster 2.使用fit將資料輸入\n",
    "\n",
    "from sklearn.cluster import KMeans\n",
    "#已知鳶尾花有三類\n",
    "#沒有帶入Target\n",
    "clu = KMeans(n_clusters = 3)\n",
    "clu.fit(data_train)"
   ]
  },
  {
   "cell_type": "code",
   "execution_count": 9,
   "metadata": {},
   "outputs": [
    {
     "data": {
      "text/plain": [
       "array([1, 0, 1, 2, 2, 0, 1, 2, 0, 2, 2, 1, 1, 1, 1, 2, 1, 0, 1, 1, 0, 0,\n",
       "       0, 1, 1, 0, 2, 2, 2, 2, 0, 1, 1, 2, 2, 1, 0, 2, 1, 0, 0, 0, 1, 0,\n",
       "       1, 0, 2, 2, 0, 1, 0, 0, 2, 0, 2, 1, 1, 0, 0, 2, 1, 0, 1, 2, 1, 0,\n",
       "       1, 0, 1, 1, 0, 0, 1, 1, 2, 0, 1, 0, 1, 2, 2, 0, 1, 2, 0, 1, 1, 1,\n",
       "       2, 1, 1, 0, 0, 1, 2, 1, 1, 0, 2, 1, 2, 0, 0, 1, 0, 0, 1, 1, 2, 1,\n",
       "       0, 1, 2, 0, 2, 0, 2, 1, 0, 1, 1, 1, 1, 2, 1, 0, 0, 1, 2, 1, 1, 0,\n",
       "       0, 1, 2])"
      ]
     },
     "execution_count": 9,
     "metadata": {},
     "output_type": "execute_result"
    }
   ],
   "source": [
    "#分成三類\n",
    "clu.labels_"
   ]
  },
  {
   "cell_type": "code",
   "execution_count": 10,
   "metadata": {},
   "outputs": [
    {
     "name": "stdout",
     "output_type": "stream",
     "text": [
      "預測 [0 0 0 2 0 1 2 1 1 1 1 2 2 0 1]\n",
      "正確標籤 [0 0 0 2 0 1 2 1 1 1 1 2 2 0 2]\n",
      "正確率 93.33333333333333 %\n"
     ]
    }
   ],
   "source": [
    "from sklearn.metrics import accuracy_score\n",
    "predict = clu.predict(data_test)\n",
    "print(\"預測\",predict)\n",
    "print(\"正確標籤\",target_test)\n",
    "print(\"正確率\",accuracy_score(target_test,predict)*100,'%')\n",
    "#因為沒有事先給標籤，有時需要做轉換再來對照"
   ]
  },
  {
   "cell_type": "code",
   "execution_count": null,
   "metadata": {},
   "outputs": [],
   "source": [
    "#https://en.wikipedia.org/wiki/Silhouette_(clustering)\n",
    "'''不知道k的時候，必須一個一個測試\n",
    "以silhouette檢查一個點是不是分在最佳群的方法，分數越高代表每個點離他所在的群距離越近，離另外的群聚離越遠，是好的分群\n",
    "silhouette值介於-1~1中，依公式s = 1-(a/b)，a越小越好，b越大越好，a為這個點與群內其他點的平均距離，b為這個點與其他群最近點的平均距離\n",
    "'''"
   ]
  },
  {
   "cell_type": "code",
   "execution_count": 14,
   "metadata": {},
   "outputs": [
    {
     "name": "stdout",
     "output_type": "stream",
     "text": [
      "silhouette_score: [0.681046169211746, 0.5528190123564091, 0.4980505049972867, 0.4887488870931048, 0.3648340039670018, 0.3497423413791637, 0.33912506629106826, 0.33806069945271494]\n",
      "k_num [2, 3, 4, 5, 6, 7, 8, 9]\n"
     ]
    },
    {
     "data": {
      "text/plain": [
       "Text(0.5, 0, 'silhouette_score')"
      ]
     },
     "execution_count": 14,
     "metadata": {},
     "output_type": "execute_result"
    },
    {
     "data": {
      "image/png": "[encoded data removed]",
      "text/plain": [
       "<Figure size 432x288 with 1 Axes>"
      ]
     },
     "metadata": {
      "needs_background": "light"
     },
     "output_type": "display_data"
    }
   ],
   "source": [
    "from sklearn.metrics import silhouette_score\n",
    "import matplotlib.pyplot as plt\n",
    "%matplotlib inline\n",
    "scores = []\n",
    "knum = []\n",
    "\n",
    "for i in range(2,10):\n",
    "    clu = KMeans(n_clusters= i)\n",
    "    clu.fit(iris['data'])\n",
    "    clu_score = silhouette_score(iris['data'], clu.labels_)\n",
    "    scores.append(clu_score)\n",
    "    knum.append(i)\n",
    "    \n",
    "print(\"silhouette_score:\",scores)\n",
    "print(\"k_num\",knum)\n",
    "plt.plot(scores,knum)\n",
    "plt.xlabel('silhouette_score')"
   ]
  },
  {
   "cell_type": "code",
   "execution_count": null,
   "metadata": {},
   "outputs": [],
   "source": [
    "#K=2或K=3會是不錯的選擇"
   ]
  }
 ],
 "metadata": {
  "kernelspec": {
   "display_name": "Python 3",
   "language": "python",
   "name": "python3"
  },
  "language_info": {
   "codemirror_mode": {
    "name": "ipython",
    "version": 3
   },
   "file_extension": ".py",
   "mimetype": "text/x-python",
   "name": "python",
   "nbconvert_exporter": "python",
   "pygments_lexer": "ipython3",
   "version": "3.7.0"
  }
 },
 "nbformat": 4,
 "nbformat_minor": 2
}
