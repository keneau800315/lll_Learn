{
 "cells": [
  {
   "cell_type": "code",
   "execution_count": null,
   "metadata": {},
   "outputs": [],
   "source": [
    "#ref:https://tomkuo139.blogspot.com/2018/03/ai.html、https://medium.com/@chih.sheng.huang821/%E6%A9%9F%E5%99%A8%E5%AD%B8%E7%BF%92-%E7%A5%9E%E7%B6%93%E7%B6%B2%E8%B7%AF-%E5%A4%9A%E5%B1%A4%E6%84%9F%E7%9F%A5%E6%A9%9F-multilayer-perceptron-mlp-%E5%90%AB%E8%A9%B3%E7%B4%B0%E6%8E%A8%E5%B0%8E-ee4f3d5d1b41\n",
    "#深度學習基礎\n",
    "'''\n",
    "讓神經元變成多層的結構，模擬人類神經，且加上一層就不會是一直線\n",
    "，非線性問題獲得解決\n",
    "MLP(Multi-Layer Perceptron)\n",
    "MLP主要由輸入層、隱藏層和輸出層所構成。\n",
    "\n",
    "前向傳遞 (Forward propagation):\n",
    "每一層都乘上一個權重相加以會進入下一個神經元，\n",
    "每一個權重相加必須經過激勵函數(Logistic)神經元是否被啟動，當做隱藏層輸出是下層神經元\n",
    "，經過多個隱藏層，隱藏層輸出的加權線性和到輸出層，在經過激勵函數得到推估值。\n",
    "\n",
    "反向傳遞 (Backward propagation):\n",
    "利用最後的目標函數(推估值)來進行參數w的更新，持續學習，直到參數或是誤差值收斂。\n",
    "\n",
    "模型如何決定w:\n",
    "梯度下降找出斜率等於的地方，隨便找個w值，沿著負梯度的方向前進走到等高線的最低點，稱作梯度下降\n",
    "\n",
    "神經元如何決定多層的w:\n",
    "使用反向傳播(Backpropagation)，但會算到Logistic函數的微分，Logistic函數的微分分佈在0-1之間，多神經元必須把0-1\n",
    "的值乘上很多次造成梯度消失\n",
    "\n",
    "梯度消失解決:\n",
    "使用relu函數代替logistic函數，relu函數使函數為負的=0,函數正的不變\n",
    "\n",
    "\n",
    "'''"
   ]
  },
  {
   "cell_type": "code",
   "execution_count": null,
   "metadata": {},
   "outputs": [],
   "source": [
    "#ImportError: DLL load failed: 找不到指定的程序。\n",
    "#!pip install protobuf==3.6.0"
   ]
  },
  {
   "cell_type": "code",
   "execution_count": 1,
   "metadata": {},
   "outputs": [
    {
     "name": "stderr",
     "output_type": "stream",
     "text": [
      "Using TensorFlow backend.\n"
     ]
    }
   ],
   "source": [
    "#使用內建mnist資料庫\n",
    "import keras\n",
    "from keras.datasets import mnist\n",
    "from keras.models import Sequential\n",
    "from keras.layers import Dense,Dropout\n",
    "import matplotlib.pyplot as plt\n",
    "import warnings\n",
    "warnings.filterwarnings('ignore')\n",
    "%matplotlib inline"
   ]
  },
  {
   "cell_type": "code",
   "execution_count": 2,
   "metadata": {},
   "outputs": [],
   "source": [
    "#mnist.load_data()回傳值   ((訓練特徵,訓練目標),(測試特徵,測試目標))\n",
    "(x_train, y_train),(x_test, y_test)=mnist.load_data()"
   ]
  },
  {
   "cell_type": "code",
   "execution_count": 3,
   "metadata": {},
   "outputs": [
    {
     "name": "stdout",
     "output_type": "stream",
     "text": [
      "訓練資料筆數 60000\n",
      "測試資料筆數 10000\n"
     ]
    }
   ],
   "source": [
    "print(\"訓練資料筆數\",len(y_train))\n",
    "print(\"測試資料筆數\",len(y_test))\n"
   ]
  },
  {
   "cell_type": "code",
   "execution_count": 4,
   "metadata": {},
   "outputs": [
    {
     "name": "stdout",
     "output_type": "stream",
     "text": [
      "特徵維度 (60000, 28, 28)\n"
     ]
    }
   ],
   "source": [
    "#資料每張圖28*28pixel,pixel最大255(白)最小值0(黑)\n",
    "print(\"特徵維度\",x_train.shape)"
   ]
  },
  {
   "cell_type": "code",
   "execution_count": 5,
   "metadata": {},
   "outputs": [
    {
     "data": {
      "text/html": [
       "<div>\n",
       "<style scoped>\n",
       "    .dataframe tbody tr th:only-of-type {\n",
       "        vertical-align: middle;\n",
       "    }\n",
       "\n",
       "    .dataframe tbody tr th {\n",
       "        vertical-align: top;\n",
       "    }\n",
       "\n",
       "    .dataframe thead th {\n",
       "        text-align: right;\n",
       "    }\n",
       "</style>\n",
       "<table border=\"1\" class=\"dataframe\">\n",
       "  <thead>\n",
       "    <tr style=\"text-align: right;\">\n",
       "      <th></th>\n",
       "      <th>0</th>\n",
       "      <th>1</th>\n",
       "      <th>2</th>\n",
       "      <th>3</th>\n",
       "      <th>4</th>\n",
       "      <th>...</th>\n",
       "      <th>23</th>\n",
       "      <th>24</th>\n",
       "      <th>25</th>\n",
       "      <th>26</th>\n",
       "      <th>27</th>\n",
       "    </tr>\n",
       "  </thead>\n",
       "  <tbody>\n",
       "    <tr>\n",
       "      <th>0</th>\n",
       "      <td>0</td>\n",
       "      <td>0</td>\n",
       "      <td>0</td>\n",
       "      <td>0</td>\n",
       "      <td>0</td>\n",
       "      <td>...</td>\n",
       "      <td>0</td>\n",
       "      <td>0</td>\n",
       "      <td>0</td>\n",
       "      <td>0</td>\n",
       "      <td>0</td>\n",
       "    </tr>\n",
       "    <tr>\n",
       "      <th>1</th>\n",
       "      <td>0</td>\n",
       "      <td>0</td>\n",
       "      <td>0</td>\n",
       "      <td>0</td>\n",
       "      <td>0</td>\n",
       "      <td>...</td>\n",
       "      <td>0</td>\n",
       "      <td>0</td>\n",
       "      <td>0</td>\n",
       "      <td>0</td>\n",
       "      <td>0</td>\n",
       "    </tr>\n",
       "    <tr>\n",
       "      <th>2</th>\n",
       "      <td>0</td>\n",
       "      <td>0</td>\n",
       "      <td>0</td>\n",
       "      <td>0</td>\n",
       "      <td>0</td>\n",
       "      <td>...</td>\n",
       "      <td>0</td>\n",
       "      <td>0</td>\n",
       "      <td>0</td>\n",
       "      <td>0</td>\n",
       "      <td>0</td>\n",
       "    </tr>\n",
       "    <tr>\n",
       "      <th>3</th>\n",
       "      <td>0</td>\n",
       "      <td>0</td>\n",
       "      <td>0</td>\n",
       "      <td>0</td>\n",
       "      <td>0</td>\n",
       "      <td>...</td>\n",
       "      <td>0</td>\n",
       "      <td>0</td>\n",
       "      <td>0</td>\n",
       "      <td>0</td>\n",
       "      <td>0</td>\n",
       "    </tr>\n",
       "    <tr>\n",
       "      <th>4</th>\n",
       "      <td>0</td>\n",
       "      <td>0</td>\n",
       "      <td>0</td>\n",
       "      <td>0</td>\n",
       "      <td>0</td>\n",
       "      <td>...</td>\n",
       "      <td>0</td>\n",
       "      <td>0</td>\n",
       "      <td>0</td>\n",
       "      <td>0</td>\n",
       "      <td>0</td>\n",
       "    </tr>\n",
       "    <tr>\n",
       "      <th>5</th>\n",
       "      <td>0</td>\n",
       "      <td>0</td>\n",
       "      <td>0</td>\n",
       "      <td>0</td>\n",
       "      <td>0</td>\n",
       "      <td>...</td>\n",
       "      <td>0</td>\n",
       "      <td>0</td>\n",
       "      <td>0</td>\n",
       "      <td>0</td>\n",
       "      <td>0</td>\n",
       "    </tr>\n",
       "    <tr>\n",
       "      <th>6</th>\n",
       "      <td>0</td>\n",
       "      <td>0</td>\n",
       "      <td>0</td>\n",
       "      <td>0</td>\n",
       "      <td>0</td>\n",
       "      <td>...</td>\n",
       "      <td>0</td>\n",
       "      <td>0</td>\n",
       "      <td>0</td>\n",
       "      <td>0</td>\n",
       "      <td>0</td>\n",
       "    </tr>\n",
       "    <tr>\n",
       "      <th>...</th>\n",
       "      <td>...</td>\n",
       "      <td>...</td>\n",
       "      <td>...</td>\n",
       "      <td>...</td>\n",
       "      <td>...</td>\n",
       "      <td>...</td>\n",
       "      <td>...</td>\n",
       "      <td>...</td>\n",
       "      <td>...</td>\n",
       "      <td>...</td>\n",
       "      <td>...</td>\n",
       "    </tr>\n",
       "    <tr>\n",
       "      <th>21</th>\n",
       "      <td>0</td>\n",
       "      <td>0</td>\n",
       "      <td>0</td>\n",
       "      <td>0</td>\n",
       "      <td>0</td>\n",
       "      <td>...</td>\n",
       "      <td>0</td>\n",
       "      <td>0</td>\n",
       "      <td>0</td>\n",
       "      <td>0</td>\n",
       "      <td>0</td>\n",
       "    </tr>\n",
       "    <tr>\n",
       "      <th>22</th>\n",
       "      <td>0</td>\n",
       "      <td>0</td>\n",
       "      <td>0</td>\n",
       "      <td>0</td>\n",
       "      <td>0</td>\n",
       "      <td>...</td>\n",
       "      <td>0</td>\n",
       "      <td>0</td>\n",
       "      <td>0</td>\n",
       "      <td>0</td>\n",
       "      <td>0</td>\n",
       "    </tr>\n",
       "    <tr>\n",
       "      <th>23</th>\n",
       "      <td>0</td>\n",
       "      <td>0</td>\n",
       "      <td>0</td>\n",
       "      <td>0</td>\n",
       "      <td>0</td>\n",
       "      <td>...</td>\n",
       "      <td>0</td>\n",
       "      <td>0</td>\n",
       "      <td>0</td>\n",
       "      <td>0</td>\n",
       "      <td>0</td>\n",
       "    </tr>\n",
       "    <tr>\n",
       "      <th>24</th>\n",
       "      <td>0</td>\n",
       "      <td>0</td>\n",
       "      <td>0</td>\n",
       "      <td>0</td>\n",
       "      <td>0</td>\n",
       "      <td>...</td>\n",
       "      <td>0</td>\n",
       "      <td>0</td>\n",
       "      <td>0</td>\n",
       "      <td>0</td>\n",
       "      <td>0</td>\n",
       "    </tr>\n",
       "    <tr>\n",
       "      <th>25</th>\n",
       "      <td>0</td>\n",
       "      <td>0</td>\n",
       "      <td>0</td>\n",
       "      <td>0</td>\n",
       "      <td>0</td>\n",
       "      <td>...</td>\n",
       "      <td>0</td>\n",
       "      <td>0</td>\n",
       "      <td>0</td>\n",
       "      <td>0</td>\n",
       "      <td>0</td>\n",
       "    </tr>\n",
       "    <tr>\n",
       "      <th>26</th>\n",
       "      <td>0</td>\n",
       "      <td>0</td>\n",
       "      <td>0</td>\n",
       "      <td>0</td>\n",
       "      <td>0</td>\n",
       "      <td>...</td>\n",
       "      <td>0</td>\n",
       "      <td>0</td>\n",
       "      <td>0</td>\n",
       "      <td>0</td>\n",
       "      <td>0</td>\n",
       "    </tr>\n",
       "    <tr>\n",
       "      <th>27</th>\n",
       "      <td>0</td>\n",
       "      <td>0</td>\n",
       "      <td>0</td>\n",
       "      <td>0</td>\n",
       "      <td>0</td>\n",
       "      <td>...</td>\n",
       "      <td>0</td>\n",
       "      <td>0</td>\n",
       "      <td>0</td>\n",
       "      <td>0</td>\n",
       "      <td>0</td>\n",
       "    </tr>\n",
       "  </tbody>\n",
       "</table>\n",
       "<p>28 rows × 28 columns</p>\n",
       "</div>"
      ],
      "text/plain": [
       "    0   1   2   3   4   ...  23  24  25  26  27\n",
       "0    0   0   0   0   0  ...   0   0   0   0   0\n",
       "1    0   0   0   0   0  ...   0   0   0   0   0\n",
       "2    0   0   0   0   0  ...   0   0   0   0   0\n",
       "3    0   0   0   0   0  ...   0   0   0   0   0\n",
       "4    0   0   0   0   0  ...   0   0   0   0   0\n",
       "5    0   0   0   0   0  ...   0   0   0   0   0\n",
       "6    0   0   0   0   0  ...   0   0   0   0   0\n",
       "..  ..  ..  ..  ..  ..  ...  ..  ..  ..  ..  ..\n",
       "21   0   0   0   0   0  ...   0   0   0   0   0\n",
       "22   0   0   0   0   0  ...   0   0   0   0   0\n",
       "23   0   0   0   0   0  ...   0   0   0   0   0\n",
       "24   0   0   0   0   0  ...   0   0   0   0   0\n",
       "25   0   0   0   0   0  ...   0   0   0   0   0\n",
       "26   0   0   0   0   0  ...   0   0   0   0   0\n",
       "27   0   0   0   0   0  ...   0   0   0   0   0\n",
       "\n",
       "[28 rows x 28 columns]"
      ]
     },
     "execution_count": 5,
     "metadata": {},
     "output_type": "execute_result"
    }
   ],
   "source": [
    "import pandas as pd\n",
    "pd.set_option('display.max_rows',15)\n",
    "pd.set_option('display.max_columns',10)\n",
    "pd.DataFrame(x_train[5])"
   ]
  },
  {
   "cell_type": "code",
   "execution_count": 6,
   "metadata": {},
   "outputs": [
    {
     "data": {
      "text/plain": [
       "<matplotlib.image.AxesImage at 0x189069a65f8>"
      ]
     },
     "execution_count": 6,
     "metadata": {},
     "output_type": "execute_result"
    },
    {
     "data": {
      "image/png": "[encoded data removed]",
      "text/plain": [
       "<Figure size 432x288 with 1 Axes>"
      ]
     },
     "metadata": {
      "needs_background": "light"
     },
     "output_type": "display_data"
    }
   ],
   "source": [
    "#看圖\n",
    "plt.imshow(x_train[5],cmap='gray')"
   ]
  },
  {
   "cell_type": "code",
   "execution_count": 7,
   "metadata": {},
   "outputs": [],
   "source": [
    "#標準化(把所有資料縮放到0-1之間)，若特徵區間太每次大梯度下降大，容易超過最低點\n",
    "#輸出變成one-hot-encoding，因為深度學習的最後一層可以是多個神經元，看誰被激發的幅度較大答案就是誰\n",
    "from keras.utils import np_utils\n",
    "#reshape 28*28 變成 784*1的一維陣列 ，輸入層的每筆Data需是一維陣列\n",
    "#除以255標準化至0-1的區間\n",
    "\n",
    "x_train_shaped=x_train.reshape(60000,784).astype('float32') / 255\n",
    "x_test_shaped = x_test.reshape(10000,784).astype('float32') / 255\n",
    "\n",
    "#keras 要求分類的輸出必須換成One-HOt Encoding，MLP輸出層的每筆Data都是一維陣列\n",
    "\n",
    "y_train_cat = np_utils.to_categorical(y_train)\n",
    "y_test_cat = np_utils.to_categorical(y_test)"
   ]
  },
  {
   "cell_type": "code",
   "execution_count": 8,
   "metadata": {},
   "outputs": [
    {
     "name": "stdout",
     "output_type": "stream",
     "text": [
      "輸入想看的可視化圖片[0-59999]10\n",
      "你想看的圖片號碼是 10\n",
      "圖片答案是 3\n"
     ]
    },
    {
     "data": {
      "text/plain": [
       "<matplotlib.image.AxesImage at 0x18906a5a1d0>"
      ]
     },
     "execution_count": 8,
     "metadata": {},
     "output_type": "execute_result"
    },
    {
     "data": {
      "image/png": "[encoded data removed]",
      "text/plain": [
       "<Figure size 432x288 with 1 Axes>"
      ]
     },
     "metadata": {
      "needs_background": "light"
     },
     "output_type": "display_data"
    }
   ],
   "source": [
    "a = int(input(\"輸入想看的可視化圖片[0-59999]\"))\n",
    "print(\"你想看的圖片號碼是\",a)\n",
    "print(\"圖片答案是\",y_train[a])\n",
    "plt.imshow(x_train[a],cmap='gray')"
   ]
  },
  {
   "cell_type": "code",
   "execution_count": null,
   "metadata": {},
   "outputs": [],
   "source": [
    "#建立模型\n",
    "'''\n",
    "建立模型的時候必須選擇一個model再將神經元一層一層疊上去\n",
    "\n",
    "model選擇\n",
    "keras有兩種模型,Sequential與Functional\n",
    "Sequential使用比較簡單\n",
    "Functional模型可以做出更多特別的設置，使用上會比較彈性\n",
    "\n",
    "layer選擇\n",
    "使用全連接層(Dense Layer) ，每個神經元都會貢獻給下一層的神經元\n",
    "\n",
    "1.輸入層(最初層):有多少特徵就應該有多少神經元\n",
    "2.隱藏層(中間層):經驗法則，需試出較佳值\n",
    "3.輸出層(最後層):有多少分類要判斷就應該有幾個最後的神經元，透過激勵函數那個神經元被激發程度較大決定是那一種\n",
    "\n",
    "W權重初始\n",
    "使用梯度下降，一開始選擇一組隨機權重開始，這裡選擇使用常態分部random_normal作為w初始值\n",
    "\n",
    "激勵函數\n",
    "在層與層之間選擇relu函數避免梯度消失，最後一層以前選擇sigmoid(logistic函數)，logistic函數在單一判斷的時候沒問題，但多個判斷的時候所有\n",
    "類別加起來不等於一，與認知的機率不同(一般機率相加等於一)，所以改使用softmax函數，跟sigmoidc很像但加起來會等於一\n",
    "'''"
   ]
  },
  {
   "cell_type": "code",
   "execution_count": 9,
   "metadata": {},
   "outputs": [
    {
     "name": "stderr",
     "output_type": "stream",
     "text": [
      "WARNING: Logging before flag parsing goes to stderr.\n",
      "W0626 17:34:36.451430  6640 deprecation_wrapper.py:119] From C:\\Users\\keneau\\PycharmProjects\\work\\venv\\lib\\site-packages\\keras\\backend\\tensorflow_backend.py:74: The name tf.get_default_graph is deprecated. Please use tf.compat.v1.get_default_graph instead.\n",
      "\n",
      "W0626 17:34:36.522390  6640 deprecation_wrapper.py:119] From C:\\Users\\keneau\\PycharmProjects\\work\\venv\\lib\\site-packages\\keras\\backend\\tensorflow_backend.py:517: The name tf.placeholder is deprecated. Please use tf.compat.v1.placeholder instead.\n",
      "\n",
      "W0626 17:34:36.524387  6640 deprecation_wrapper.py:119] From C:\\Users\\keneau\\PycharmProjects\\work\\venv\\lib\\site-packages\\keras\\backend\\tensorflow_backend.py:4115: The name tf.random_normal is deprecated. Please use tf.random.normal instead.\n",
      "\n"
     ]
    }
   ],
   "source": [
    "from keras.models import Sequential\n",
    "from keras.layers import Dense\n",
    "# 開始建立Sequential順序模組\n",
    "model = Sequential()\n",
    "#加入輸入層、隱藏層\n",
    "h_layer = Dense(input_dim = 784, # 輸入層有 28*28=784 個神經元\n",
    "               units=256,      # 隱藏層有 256 個神經元 \n",
    "               kernel_initializer = \"random_normal\",  # 使用random_normal初始化 weight權重與bias偏差值\n",
    "               activation = 'relu')  # 使用 relu 激活函數\n",
    "model.add(h_layer)\n",
    "\n",
    "#加入輸出層不用input_dim,因為 Keras自動把上一層的units作為這一層的input_dim\n",
    "o_layer = Dense(units = 10, # 輸出層有 10 個神經元，只有十種結果(數字0 ~ 9)\n",
    "               kernel_initializer = \"random_normal\",\n",
    "               activation = \"softmax\")  #使用softmax激活函數，值越高機率越大\n",
    "model.add(o_layer)"
   ]
  },
  {
   "cell_type": "code",
   "execution_count": 10,
   "metadata": {},
   "outputs": [],
   "source": [
    "import os\n",
    "os.environ[\"PATH\"] += os.pathsep + 'C:/Program Files (x86)/Graphviz2.38/bin'"
   ]
  },
  {
   "cell_type": "code",
   "execution_count": 11,
   "metadata": {},
   "outputs": [
    {
     "data": {
      "image/svg+xml": [
       "<svg height=\"191pt\" viewBox=\"0.00 0.00 112.00 191.00\" width=\"112pt\" xmlns=\"http://www.w3.org/2000/svg\" xmlns:xlink=\"http://www.w3.org/1999/xlink\">\n",
       "<g class=\"graph\" id=\"graph0\" transform=\"scale(1 1) rotate(0) translate(4 187)\">\n",
       "<title>G</title>\n",
       "<polygon fill=\"white\" points=\"-4,4 -4,-187 108,-187 108,4 -4,4\" stroke=\"none\"/>\n",
       "<!-- 1688036402848 -->\n",
       "<g class=\"node\" id=\"node1\"><title>1688036402848</title>\n",
       "<polygon fill=\"none\" points=\"0,-73.5 0,-109.5 104,-109.5 104,-73.5 0,-73.5\" stroke=\"black\"/>\n",
       "<text font-family=\"Times New Roman,serif\" font-size=\"14.00\" text-anchor=\"middle\" x=\"52\" y=\"-87.8\">dense_1: Dense</text>\n",
       "</g>\n",
       "<!-- 1688036402624 -->\n",
       "<g class=\"node\" id=\"node2\"><title>1688036402624</title>\n",
       "<polygon fill=\"none\" points=\"0,-0.5 0,-36.5 104,-36.5 104,-0.5 0,-0.5\" stroke=\"black\"/>\n",
       "<text font-family=\"Times New Roman,serif\" font-size=\"14.00\" text-anchor=\"middle\" x=\"52\" y=\"-14.8\">dense_2: Dense</text>\n",
       "</g>\n",
       "<!-- 1688036402848&#45;&gt;1688036402624 -->\n",
       "<g class=\"edge\" id=\"edge2\"><title>1688036402848-&gt;1688036402624</title>\n",
       "<path d=\"M52,-73.3129C52,-65.2895 52,-55.5475 52,-46.5691\" fill=\"none\" stroke=\"black\"/>\n",
       "<polygon fill=\"black\" points=\"55.5001,-46.5288 52,-36.5288 48.5001,-46.5289 55.5001,-46.5288\" stroke=\"black\"/>\n",
       "</g>\n",
       "<!-- 1689720955288 -->\n",
       "<g class=\"node\" id=\"node3\"><title>1689720955288</title>\n",
       "<polygon fill=\"none\" points=\"0,-146.5 0,-182.5 104,-182.5 104,-146.5 0,-146.5\" stroke=\"black\"/>\n",
       "<text font-family=\"Times New Roman,serif\" font-size=\"14.00\" text-anchor=\"middle\" x=\"52\" y=\"-160.8\">1689720955288</text>\n",
       "</g>\n",
       "<!-- 1689720955288&#45;&gt;1688036402848 -->\n",
       "<g class=\"edge\" id=\"edge1\"><title>1689720955288-&gt;1688036402848</title>\n",
       "<path d=\"M52,-146.313C52,-138.289 52,-128.547 52,-119.569\" fill=\"none\" stroke=\"black\"/>\n",
       "<polygon fill=\"black\" points=\"55.5001,-119.529 52,-109.529 48.5001,-119.529 55.5001,-119.529\" stroke=\"black\"/>\n",
       "</g>\n",
       "</g>\n",
       "</svg>"
      ],
      "text/plain": [
       "<IPython.core.display.SVG object>"
      ]
     },
     "execution_count": 11,
     "metadata": {},
     "output_type": "execute_result"
    }
   ],
   "source": [
    "#劃出model圖\n",
    "from IPython.display import SVG\n",
    "from keras.utils.vis_utils import model_to_dot\n",
    "\n",
    "SVG(model_to_dot(model).create(prog='dot',format='svg'))"
   ]
  },
  {
   "cell_type": "code",
   "execution_count": 12,
   "metadata": {},
   "outputs": [
    {
     "name": "stdout",
     "output_type": "stream",
     "text": [
      "_________________________________________________________________\n",
      "Layer (type)                 Output Shape              Param #   \n",
      "=================================================================\n",
      "dense_1 (Dense)              (None, 256)               200960    \n",
      "_________________________________________________________________\n",
      "dense_2 (Dense)              (None, 10)                2570      \n",
      "=================================================================\n",
      "Total params: 203,530\n",
      "Trainable params: 203,530\n",
      "Non-trainable params: 0\n",
      "_________________________________________________________________\n"
     ]
    }
   ],
   "source": [
    "#使用summary查看參數\n",
    "#Param的個數第一層256*784(28*28) = 20074，輸出層256*10=2560，每一個輸出配置一個bias常數(f = wx + b的常數b)來讓激勵函數保持一樣\n",
    "\n",
    "model.summary()"
   ]
  },
  {
   "cell_type": "code",
   "execution_count": 13,
   "metadata": {},
   "outputs": [
    {
     "name": "stderr",
     "output_type": "stream",
     "text": [
      "W0626 17:34:50.510679  6640 deprecation_wrapper.py:119] From C:\\Users\\keneau\\PycharmProjects\\work\\venv\\lib\\site-packages\\keras\\optimizers.py:790: The name tf.train.Optimizer is deprecated. Please use tf.compat.v1.train.Optimizer instead.\n",
      "\n",
      "W0626 17:34:50.530668  6640 deprecation_wrapper.py:119] From C:\\Users\\keneau\\PycharmProjects\\work\\venv\\lib\\site-packages\\keras\\backend\\tensorflow_backend.py:3295: The name tf.log is deprecated. Please use tf.math.log instead.\n",
      "\n"
     ]
    }
   ],
   "source": [
    "## 設定模型的訓練方式\n",
    "#optimizer 參數:傳統梯度下降有走太小步訓練很久，走太大步容易錯過最小值的缺點，adam參數對動量做出修該當斜率很大時盡量走快一點，斜率小則相反\n",
    "#loss參數:預設在輸出時會告訴你loss是多少，使用accuracy:度量為正確率\n",
    "model.compile(loss = \"categorical_crossentropy\",\n",
    "              optimizer=\"adam\",\n",
    "              metrics=['accuracy'])"
   ]
  },
  {
   "cell_type": "code",
   "execution_count": null,
   "metadata": {},
   "outputs": [],
   "source": [
    "'''\n",
    "開始fit模型\n",
    "loss:     使用訓練資料, 得到的損失函數誤差值 (值越小, 代表準確率越高)\n",
    "acc:      使用訓練資料, 得到的評估準確率    (值在 0~1, 值越大, 代表準確率越高)\n",
    "val_loss: 使用驗證資料, 得到的損失函數誤差值 (值越小, 代表準確率越高)\n",
    "val_acc:  使用驗證資料, 得到的評估準確率    (值在 0~1, 值越大, 代表準確率越高)\n",
    "'''"
   ]
  },
  {
   "cell_type": "code",
   "execution_count": 14,
   "metadata": {},
   "outputs": [
    {
     "name": "stderr",
     "output_type": "stream",
     "text": [
      "W0626 17:34:53.975389  6640 deprecation.py:323] From C:\\Users\\keneau\\PycharmProjects\\work\\venv\\lib\\site-packages\\tensorflow\\python\\ops\\math_grad.py:1250: add_dispatch_support.<locals>.wrapper (from tensorflow.python.ops.array_ops) is deprecated and will be removed in a future version.\n",
      "Instructions for updating:\n",
      "Use tf.where in 2.0, which has the same broadcast rule as np.where\n",
      "W0626 17:34:54.017364  6640 deprecation_wrapper.py:119] From C:\\Users\\keneau\\PycharmProjects\\work\\venv\\lib\\site-packages\\keras\\backend\\tensorflow_backend.py:986: The name tf.assign_add is deprecated. Please use tf.compat.v1.assign_add instead.\n",
      "\n"
     ]
    },
    {
     "name": "stdout",
     "output_type": "stream",
     "text": [
      "Train on 54000 samples, validate on 6000 samples\n",
      "Epoch 1/20\n",
      " - 2s - loss: 0.4158 - acc: 0.8884 - val_loss: 0.1812 - val_acc: 0.9525\n",
      "Epoch 2/20\n",
      " - 1s - loss: 0.1774 - acc: 0.9498 - val_loss: 0.1208 - val_acc: 0.9663\n",
      "Epoch 3/20\n",
      " - 1s - loss: 0.1250 - acc: 0.9642 - val_loss: 0.0985 - val_acc: 0.9713\n",
      "Epoch 4/20\n",
      " - 1s - loss: 0.0957 - acc: 0.9721 - val_loss: 0.0870 - val_acc: 0.9758\n",
      "Epoch 5/20\n",
      " - 1s - loss: 0.0757 - acc: 0.9784 - val_loss: 0.0814 - val_acc: 0.9768\n",
      "Epoch 6/20\n",
      " - 1s - loss: 0.0614 - acc: 0.9827 - val_loss: 0.0798 - val_acc: 0.9772\n",
      "Epoch 7/20\n",
      " - 1s - loss: 0.0501 - acc: 0.9862 - val_loss: 0.0727 - val_acc: 0.9785\n",
      "Epoch 8/20\n",
      " - 1s - loss: 0.0415 - acc: 0.9887 - val_loss: 0.0661 - val_acc: 0.9797\n",
      "Epoch 9/20\n",
      " - 1s - loss: 0.0350 - acc: 0.9909 - val_loss: 0.0678 - val_acc: 0.9802\n",
      "Epoch 10/20\n",
      " - 1s - loss: 0.0291 - acc: 0.9927 - val_loss: 0.0680 - val_acc: 0.9792\n",
      "Epoch 11/20\n",
      " - 1s - loss: 0.0244 - acc: 0.9938 - val_loss: 0.0689 - val_acc: 0.9800\n",
      "Epoch 12/20\n",
      " - 1s - loss: 0.0196 - acc: 0.9955 - val_loss: 0.0680 - val_acc: 0.9810\n",
      "Epoch 13/20\n",
      " - 1s - loss: 0.0169 - acc: 0.9965 - val_loss: 0.0649 - val_acc: 0.9817\n",
      "Epoch 14/20\n",
      " - 1s - loss: 0.0138 - acc: 0.9976 - val_loss: 0.0699 - val_acc: 0.9805\n",
      "Epoch 15/20\n",
      " - 1s - loss: 0.0118 - acc: 0.9979 - val_loss: 0.0680 - val_acc: 0.9810\n",
      "Epoch 16/20\n",
      " - 1s - loss: 0.0098 - acc: 0.9986 - val_loss: 0.0673 - val_acc: 0.9817\n",
      "Epoch 17/20\n",
      " - 1s - loss: 0.0079 - acc: 0.9989 - val_loss: 0.0749 - val_acc: 0.9800\n",
      "Epoch 18/20\n",
      " - 1s - loss: 0.0066 - acc: 0.9992 - val_loss: 0.0672 - val_acc: 0.9817\n",
      "Epoch 19/20\n",
      " - 1s - loss: 0.0054 - acc: 0.9994 - val_loss: 0.0697 - val_acc: 0.9817\n",
      "Epoch 20/20\n",
      " - 1s - loss: 0.0050 - acc: 0.9995 - val_loss: 0.0731 - val_acc: 0.9818\n"
     ]
    }
   ],
   "source": [
    "#訓練的歷史記錄, 會會回傳到指定變數train_history\n",
    "train_history = model.fit(x=x_train_shaped,\n",
    "                y=y_train_cat,\n",
    "                validation_split=0.1,   #validation_split多少訓練，多少測驗\n",
    "                epochs=20,              #epochs整個資料及看幾次\n",
    "                batch_size=200,         #batch_size看過多少樣本更新ㄧ次梯度下降\n",
    "                verbose= 2)             #verbose:0(步輸出訓練log),1(只輸出進度條),2(每個訓練訊息)"
   ]
  },
  {
   "cell_type": "code",
   "execution_count": 15,
   "metadata": {},
   "outputs": [
    {
     "data": {
      "text/plain": [
       "Text(0.5, 0, 'epochs')"
      ]
     },
     "execution_count": 15,
     "metadata": {},
     "output_type": "execute_result"
    },
    {
     "data": {
      "image/png": "[encoded data removed]",
      "text/plain": [
       "<Figure size 432x288 with 1 Axes>"
      ]
     },
     "metadata": {
      "needs_background": "light"
     },
     "output_type": "display_data"
    }
   ],
   "source": [
    "plt.plot(train_history.history[\"acc\"])\n",
    "plt.plot(train_history.history[\"val_acc\"])\n",
    "plt.title(\"Acc Graph\")\n",
    "plt.legend(['acc','val_acc'], loc='upper left')\n",
    "plt.ylabel('acc')\n",
    "plt.xlabel('epochs')"
   ]
  },
  {
   "cell_type": "code",
   "execution_count": 16,
   "metadata": {},
   "outputs": [
    {
     "data": {
      "text/plain": [
       "Text(0, 0.5, 'loss')"
      ]
     },
     "execution_count": 16,
     "metadata": {},
     "output_type": "execute_result"
    },
    {
     "data": {
      "image/png": "[encoded data removed]",
      "text/plain": [
       "<Figure size 432x288 with 1 Axes>"
      ]
     },
     "metadata": {
      "needs_background": "light"
     },
     "output_type": "display_data"
    }
   ],
   "source": [
    "#loss跟模型跟所有訓練資料(切出的9/10)的正確答案差距，val_loss是模型跟切出來的驗證資料(1/10)正確答案的差距，\n",
    "#通常val_loss沒大變動的時候就會停下，來避免過度訓練產生過擬合問題\n",
    "plt.plot(train_history.history[\"loss\"])\n",
    "plt.plot(train_history.history[\"val_loss\"])\n",
    "plt.title(\"Loss Graph\")\n",
    "plt.legend(['loss','val_loss'], loc='upper left')\n",
    "plt.xlabel( 'epochs' )\n",
    "plt.ylabel( 'loss' )"
   ]
  },
  {
   "cell_type": "code",
   "execution_count": 17,
   "metadata": {},
   "outputs": [
    {
     "name": "stdout",
     "output_type": "stream",
     "text": [
      "預測標籤 [7, 2, 1, 0, 4]\n",
      "正確標籤 [7, 2, 1, 0, 4]\n"
     ]
    }
   ],
   "source": [
    "#取五比看看\n",
    "predict = model.predict_classes(x_test_shaped)\n",
    "print(\"預測標籤\",list(predict[:5]))\n",
    "print(\"正確標籤\",list(y_test)[:5])\n"
   ]
  },
  {
   "cell_type": "code",
   "execution_count": 18,
   "metadata": {},
   "outputs": [
    {
     "name": "stdout",
     "output_type": "stream",
     "text": [
      "10000/10000 [==============================] - 0s 17us/step\n",
      "衡量係數 [0.07166148496138484, 0.9806]\n",
      "正確率: 98.06 %\n"
     ]
    }
   ],
   "source": [
    "e = model.evaluate(x_test_shaped,y_test_cat)\n",
    "print(\"衡量係數\",e)\n",
    "print(\"正確率:\",e[1]*100,'%')"
   ]
  },
  {
   "cell_type": "code",
   "execution_count": 19,
   "metadata": {},
   "outputs": [
    {
     "data": {
      "text/html": [
       "<div>\n",
       "<style scoped>\n",
       "    .dataframe tbody tr th:only-of-type {\n",
       "        vertical-align: middle;\n",
       "    }\n",
       "\n",
       "    .dataframe tbody tr th {\n",
       "        vertical-align: top;\n",
       "    }\n",
       "\n",
       "    .dataframe thead th {\n",
       "        text-align: right;\n",
       "    }\n",
       "</style>\n",
       "<table border=\"1\" class=\"dataframe\">\n",
       "  <thead>\n",
       "    <tr style=\"text-align: right;\">\n",
       "      <th></th>\n",
       "      <th>0</th>\n",
       "      <th>1</th>\n",
       "      <th>2</th>\n",
       "      <th>3</th>\n",
       "      <th>4</th>\n",
       "      <th>5</th>\n",
       "      <th>6</th>\n",
       "      <th>7</th>\n",
       "      <th>8</th>\n",
       "      <th>9</th>\n",
       "    </tr>\n",
       "  </thead>\n",
       "  <tbody>\n",
       "    <tr>\n",
       "      <th>0</th>\n",
       "      <td>971</td>\n",
       "      <td>0</td>\n",
       "      <td>1</td>\n",
       "      <td>1</td>\n",
       "      <td>1</td>\n",
       "      <td>2</td>\n",
       "      <td>1</td>\n",
       "      <td>1</td>\n",
       "      <td>1</td>\n",
       "      <td>1</td>\n",
       "    </tr>\n",
       "    <tr>\n",
       "      <th>1</th>\n",
       "      <td>0</td>\n",
       "      <td>1124</td>\n",
       "      <td>3</td>\n",
       "      <td>2</td>\n",
       "      <td>0</td>\n",
       "      <td>1</td>\n",
       "      <td>2</td>\n",
       "      <td>1</td>\n",
       "      <td>2</td>\n",
       "      <td>0</td>\n",
       "    </tr>\n",
       "    <tr>\n",
       "      <th>2</th>\n",
       "      <td>3</td>\n",
       "      <td>1</td>\n",
       "      <td>1007</td>\n",
       "      <td>5</td>\n",
       "      <td>2</td>\n",
       "      <td>0</td>\n",
       "      <td>3</td>\n",
       "      <td>4</td>\n",
       "      <td>6</td>\n",
       "      <td>1</td>\n",
       "    </tr>\n",
       "    <tr>\n",
       "      <th>3</th>\n",
       "      <td>1</td>\n",
       "      <td>0</td>\n",
       "      <td>2</td>\n",
       "      <td>1001</td>\n",
       "      <td>0</td>\n",
       "      <td>1</td>\n",
       "      <td>0</td>\n",
       "      <td>1</td>\n",
       "      <td>2</td>\n",
       "      <td>2</td>\n",
       "    </tr>\n",
       "    <tr>\n",
       "      <th>4</th>\n",
       "      <td>1</td>\n",
       "      <td>0</td>\n",
       "      <td>1</td>\n",
       "      <td>1</td>\n",
       "      <td>968</td>\n",
       "      <td>0</td>\n",
       "      <td>4</td>\n",
       "      <td>0</td>\n",
       "      <td>0</td>\n",
       "      <td>7</td>\n",
       "    </tr>\n",
       "    <tr>\n",
       "      <th>5</th>\n",
       "      <td>2</td>\n",
       "      <td>0</td>\n",
       "      <td>0</td>\n",
       "      <td>15</td>\n",
       "      <td>1</td>\n",
       "      <td>870</td>\n",
       "      <td>3</td>\n",
       "      <td>0</td>\n",
       "      <td>0</td>\n",
       "      <td>1</td>\n",
       "    </tr>\n",
       "    <tr>\n",
       "      <th>6</th>\n",
       "      <td>4</td>\n",
       "      <td>2</td>\n",
       "      <td>1</td>\n",
       "      <td>1</td>\n",
       "      <td>4</td>\n",
       "      <td>3</td>\n",
       "      <td>942</td>\n",
       "      <td>0</td>\n",
       "      <td>1</td>\n",
       "      <td>0</td>\n",
       "    </tr>\n",
       "    <tr>\n",
       "      <th>7</th>\n",
       "      <td>1</td>\n",
       "      <td>6</td>\n",
       "      <td>7</td>\n",
       "      <td>6</td>\n",
       "      <td>1</td>\n",
       "      <td>0</td>\n",
       "      <td>0</td>\n",
       "      <td>998</td>\n",
       "      <td>1</td>\n",
       "      <td>8</td>\n",
       "    </tr>\n",
       "    <tr>\n",
       "      <th>8</th>\n",
       "      <td>2</td>\n",
       "      <td>1</td>\n",
       "      <td>3</td>\n",
       "      <td>8</td>\n",
       "      <td>6</td>\n",
       "      <td>6</td>\n",
       "      <td>2</td>\n",
       "      <td>2</td>\n",
       "      <td>941</td>\n",
       "      <td>3</td>\n",
       "    </tr>\n",
       "    <tr>\n",
       "      <th>9</th>\n",
       "      <td>3</td>\n",
       "      <td>2</td>\n",
       "      <td>0</td>\n",
       "      <td>9</td>\n",
       "      <td>6</td>\n",
       "      <td>2</td>\n",
       "      <td>0</td>\n",
       "      <td>3</td>\n",
       "      <td>0</td>\n",
       "      <td>984</td>\n",
       "    </tr>\n",
       "  </tbody>\n",
       "</table>\n",
       "</div>"
      ],
      "text/plain": [
       "     0     1     2     3    4    5    6    7    8    9\n",
       "0  971     0     1     1    1    2    1    1    1    1\n",
       "1    0  1124     3     2    0    1    2    1    2    0\n",
       "2    3     1  1007     5    2    0    3    4    6    1\n",
       "3    1     0     2  1001    0    1    0    1    2    2\n",
       "4    1     0     1     1  968    0    4    0    0    7\n",
       "5    2     0     0    15    1  870    3    0    0    1\n",
       "6    4     2     1     1    4    3  942    0    1    0\n",
       "7    1     6     7     6    1    0    0  998    1    8\n",
       "8    2     1     3     8    6    6    2    2  941    3\n",
       "9    3     2     0     9    6    2    0    3    0  984"
      ]
     },
     "execution_count": 19,
     "metadata": {},
     "output_type": "execute_result"
    }
   ],
   "source": [
    "from sklearn.metrics import confusion_matrix\n",
    "pd.DataFrame(confusion_matrix(y_test,predict))"
   ]
  },
  {
   "cell_type": "code",
   "execution_count": 20,
   "metadata": {},
   "outputs": [],
   "source": [
    "import pandas as pd\n",
    "checkList = pd.DataFrame( {'label':y_test,       # Column1 名稱: 欄位值集合 (這裡提供 Label 真實數值)\n",
    "                          'predict':predict      # Column2 名稱: 欄位值集合 (這裡提供 AI 預測結果)\n",
    "                          }\n",
    "                        )"
   ]
  },
  {
   "cell_type": "code",
   "execution_count": 21,
   "metadata": {},
   "outputs": [
    {
     "data": {
      "text/html": [
       "<div>\n",
       "<style scoped>\n",
       "    .dataframe tbody tr th:only-of-type {\n",
       "        vertical-align: middle;\n",
       "    }\n",
       "\n",
       "    .dataframe tbody tr th {\n",
       "        vertical-align: top;\n",
       "    }\n",
       "\n",
       "    .dataframe thead th {\n",
       "        text-align: right;\n",
       "    }\n",
       "</style>\n",
       "<table border=\"1\" class=\"dataframe\">\n",
       "  <thead>\n",
       "    <tr style=\"text-align: right;\">\n",
       "      <th></th>\n",
       "      <th>label</th>\n",
       "      <th>predict</th>\n",
       "    </tr>\n",
       "  </thead>\n",
       "  <tbody>\n",
       "    <tr>\n",
       "      <th>104</th>\n",
       "      <td>9</td>\n",
       "      <td>5</td>\n",
       "    </tr>\n",
       "    <tr>\n",
       "      <th>115</th>\n",
       "      <td>4</td>\n",
       "      <td>9</td>\n",
       "    </tr>\n",
       "    <tr>\n",
       "      <th>149</th>\n",
       "      <td>2</td>\n",
       "      <td>9</td>\n",
       "    </tr>\n",
       "    <tr>\n",
       "      <th>247</th>\n",
       "      <td>4</td>\n",
       "      <td>6</td>\n",
       "    </tr>\n",
       "    <tr>\n",
       "      <th>321</th>\n",
       "      <td>2</td>\n",
       "      <td>7</td>\n",
       "    </tr>\n",
       "  </tbody>\n",
       "</table>\n",
       "</div>"
      ],
      "text/plain": [
       "     label  predict\n",
       "104      9        5\n",
       "115      4        9\n",
       "149      2        9\n",
       "247      4        6\n",
       "321      2        7"
      ]
     },
     "execution_count": 21,
     "metadata": {},
     "output_type": "execute_result"
    }
   ],
   "source": [
    "#共有176筆資料預測錯誤\n",
    "error_predict = checkList[checkList['predict'] != checkList['label']]\n",
    "error_predict.head(5)"
   ]
  },
  {
   "cell_type": "code",
   "execution_count": 22,
   "metadata": {},
   "outputs": [
    {
     "data": {
      "image/png": "[encoded data removed]",
      "text/plain": [
       "<Figure size 2880x720 with 10 Axes>"
      ]
     },
     "metadata": {
      "needs_background": "light"
     },
     "output_type": "display_data"
    }
   ],
   "source": [
    "#檢視分類錯誤的資料長相\n",
    "import math\n",
    "img_list = error_predict.index.tolist()[:10]\n",
    "loc=0\n",
    "plt.figure(figsize=(40,10))\n",
    "for i in img_list:\n",
    "    loc += 1    \n",
    "    plt.subplot( math.ceil(len(img_list)/5), 5, loc )\n",
    "    # 畫布區分為(幾列, 幾欄, 目前在哪個位置)\n",
    "    plt.title(\"[label]:\" + str(error_predict['label'].tolist()[loc-1])+',' + \"[AI_predict]:\" + str(error_predict['predict'].tolist()[loc-1]),fontsize=20)\n",
    "    plt.axis(\"off\")\n",
    "    plt.imshow(x_test[i],cmap='gray')    "
   ]
  },
  {
   "cell_type": "code",
   "execution_count": null,
   "metadata": {},
   "outputs": [],
   "source": [
    "#可以藉由提高訓練次數、增加隱藏層的神經元數、增加隱藏層等，來提升確率"
   ]
  }
 ],
 "metadata": {
  "kernelspec": {
   "display_name": "Python 3",
   "language": "python",
   "name": "python3"
  },
  "language_info": {
   "codemirror_mode": {
    "name": "ipython",
    "version": 3
   },
   "file_extension": ".py",
   "mimetype": "text/x-python",
   "name": "python",
   "nbconvert_exporter": "python",
   "pygments_lexer": "ipython3",
   "version": "3.6.0"
  }
 },
 "nbformat": 4,
 "nbformat_minor": 2
}
